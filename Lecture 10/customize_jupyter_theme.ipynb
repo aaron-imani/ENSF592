{
 "cells": [
  {
   "cell_type": "markdown",
   "id": "99bbe4d5",
   "metadata": {},
   "source": [
    "[Reference](https://towardsdatascience.com/customize-your-jupyter-notebook-theme-in-2-lines-of-code-fc726cea1513)\n",
    "\n",
    "First, install the Jupyter themes library.\n",
    "\n",
    "``` \n",
    "pip install jupyterthemes\n",
    "```\n",
    "\n",
    "Then, try executing the below command to see a list of available themes:\n",
    "\n",
    "``` \n",
    "jt -l\n",
    "```\n",
    "\n",
    "Choose any of the themes\n",
    "```\n",
    "jt -t [theme name] -T -N -kl\n",
    "```"
   ]
  }
 ],
 "metadata": {
  "kernelspec": {
   "display_name": "Python 3 (ipykernel)",
   "language": "python",
   "name": "python3"
  },
  "language_info": {
   "codemirror_mode": {
    "name": "ipython",
    "version": 3
   },
   "file_extension": ".py",
   "mimetype": "text/x-python",
   "name": "python",
   "nbconvert_exporter": "python",
   "pygments_lexer": "ipython3",
   "version": "3.10.4"
  }
 },
 "nbformat": 4,
 "nbformat_minor": 5
}
