{
 "cells": [
  {
   "cell_type": "markdown",
   "id": "3e849a90",
   "metadata": {},
   "source": [
    "# Lecture 10\n",
    "IPython & Jupyter\n",
    "\n",
    "🍂 Fall 2022, Alireza Imani\n",
    "\n",
    "📚 Reference: [Python Data Science Handbook](https://www.oreilly.com/library/view/python-data-science/9781491912126/?sso_link=yes&sso_link_from=university-of-calgary)\n",
    "\n",
    "**Please open IPython shell by entering `ipython` command in your terminal or open a new jupyter notebook using the `jupyter notebook` command.**"
   ]
  },
  {
   "cell_type": "markdown",
   "id": "a90b09a6",
   "metadata": {},
   "source": [
    "IPython (short for Interactive Python) was started in 2001\n",
    "by Fernando Perez as an *enhanced Python interpreter*, and has since grown into a\n",
    "project aiming to provide, in Perez’s words, “Tools for the entire lifecycle of research\n",
    "computing.” If Python is the engine of our data science task, you might think of IPython\n",
    "as the interactive control panel. In addition, IPython is closely tied with the Jupyter project,\n",
    "which provides a browser-based notebook that is useful for development, collaboration,\n",
    "sharing, and even publication of data science results. IPython is about using Python effectively for interactive scientific and data-intensive\n",
    "computing. This chapter will start by stepping through some of the IPython features\n",
    "that are useful to the practice of data science, focusing especially on the syntax it\n",
    "offers beyond the standard features of Python.\n",
    "\n",
    "## Help and Documentation in IPython"
   ]
  },
  {
   "cell_type": "code",
   "execution_count": 1,
   "id": "1226f520",
   "metadata": {},
   "outputs": [
    {
     "name": "stdout",
     "output_type": "stream",
     "text": [
      "Help on built-in function len in module builtins:\n",
      "\n",
      "len(obj, /)\n",
      "    Return the number of items in a container.\n",
      "\n"
     ]
    }
   ],
   "source": [
    "help(len)"
   ]
  },
  {
   "cell_type": "code",
   "execution_count": 1,
   "id": "18d3917d",
   "metadata": {},
   "outputs": [
    {
     "name": "stdout",
     "output_type": "stream",
     "text": [
      "\u001b[0;31mSignature:\u001b[0m \u001b[0mlen\u001b[0m\u001b[0;34m(\u001b[0m\u001b[0mobj\u001b[0m\u001b[0;34m,\u001b[0m \u001b[0;34m/\u001b[0m\u001b[0;34m)\u001b[0m\u001b[0;34m\u001b[0m\u001b[0;34m\u001b[0m\u001b[0m\n",
      "\u001b[0;31mDocstring:\u001b[0m Return the number of items in a container.\n",
      "\u001b[0;31mType:\u001b[0m      builtin_function_or_method\n"
     ]
    }
   ],
   "source": [
    "len?"
   ]
  },
  {
   "cell_type": "code",
   "execution_count": 3,
   "id": "59a9f0e5",
   "metadata": {},
   "outputs": [],
   "source": [
    "L = [1, 2, 3]\n",
    "L.insert?"
   ]
  },
  {
   "cell_type": "code",
   "execution_count": 4,
   "id": "96cd1db8",
   "metadata": {},
   "outputs": [],
   "source": [
    "L?"
   ]
  },
  {
   "cell_type": "code",
   "execution_count": 5,
   "id": "e899080d",
   "metadata": {},
   "outputs": [],
   "source": [
    "def square(a):\n",
    "    \"\"\"Return the square of a.\"\"\"\n",
    "    return a ** 2\n",
    "\n",
    "square?"
   ]
  },
  {
   "cell_type": "code",
   "execution_count": 6,
   "id": "242763e1",
   "metadata": {},
   "outputs": [],
   "source": [
    "# Accessing Source code\n",
    "square??"
   ]
  },
  {
   "cell_type": "code",
   "execution_count": 7,
   "id": "b249367e",
   "metadata": {},
   "outputs": [],
   "source": [
    "# The source code will not be shown because it has been implemented in C.\n",
    "len??"
   ]
  },
  {
   "cell_type": "markdown",
   "id": "18e10c79",
   "metadata": {},
   "source": [
    "### Exploring Modules with Tab Completion"
   ]
  },
  {
   "cell_type": "code",
   "execution_count": 8,
   "id": "496ba138",
   "metadata": {},
   "outputs": [],
   "source": [
    "# TODO: Try pressing TAB key after writing L. in the next line\n"
   ]
  },
  {
   "cell_type": "code",
   "execution_count": null,
   "id": "e3678b4b",
   "metadata": {},
   "outputs": [],
   "source": [
    "# Try pressing TAB after placing the text cursor at the end of next line.\n",
    "from itertools import co"
   ]
  },
  {
   "cell_type": "markdown",
   "id": "911e15c9",
   "metadata": {},
   "source": [
    "### Wildcard matching"
   ]
  },
  {
   "cell_type": "code",
   "execution_count": 10,
   "id": "3dcce708",
   "metadata": {},
   "outputs": [],
   "source": [
    "# Note that * matches any string\n",
    "*Warning?"
   ]
  },
  {
   "cell_type": "code",
   "execution_count": 11,
   "id": "1cc51add",
   "metadata": {},
   "outputs": [],
   "source": [
    "str.*find*?"
   ]
  },
  {
   "cell_type": "markdown",
   "id": "36ebfa75",
   "metadata": {},
   "source": [
    "## Keyboard Shortcuts in the IPython Shell"
   ]
  },
  {
   "cell_type": "markdown",
   "id": "0fffd783",
   "metadata": {},
   "source": [
    "- Press `esc`, then press `H` to access keyboard shortcuts cheat sheet.\n",
    "\n",
    "- Use the command palette."
   ]
  },
  {
   "cell_type": "markdown",
   "id": "2cbe8dd7",
   "metadata": {},
   "source": [
    "### Navigation Shortcuts\n",
    "\n",
    "| Keystroke | Action |\n",
    "| --- | --- |\n",
    "| `Ctrl+A` | Move cursor to the beginning of the line |\n",
    "`Ctrl+E` | Move cursor to the end of the line\n",
    "`Ctrl+B` | (or the left arrow key) Move cursor back one character\n",
    "`Ctrl+F` | (or the right arrow key) Move cursor forward one character"
   ]
  },
  {
   "cell_type": "markdown",
   "id": "8b05906e",
   "metadata": {},
   "source": [
    "### Text Entry Shortcuts\n",
    "\n",
    "| Keystroke | Action |\n",
    "| --- | --- |\n",
    "`Backspace key` | Delete previous character in line |\n",
    "`Ctrl+D` | **Delete next character in line** |\n",
    "`Ctrl+K` | Cut text from cursor to end of line |\n",
    "`Ctrl+U` | Cut text from beginning fo line to cursor |\n",
    "`Ctrl+Y` | Yank (i.e., paste) text that was previously cut |\n",
    "`Ctrl+T` | Transpose (i.e., switch) previous two characters |"
   ]
  },
  {
   "cell_type": "markdown",
   "id": "80f69e26",
   "metadata": {},
   "source": [
    "### Command History Shortcuts\n",
    "\n",
    "| Keystroke | Action |\n",
    "| --- | --- |\n",
    "Ctrl+P | (or the up arrow key) Access previous command in history |\n",
    "Ctrl+N | (or the down arrow key) Access next command in history |\n",
    "Ctrl+R | **Reverse-search through command history** |"
   ]
  },
  {
   "cell_type": "markdown",
   "id": "55c25075",
   "metadata": {},
   "source": [
    "### Miscellaneous Shortcuts\n",
    "\n",
    "| Keystroke | Action |\n",
    "| --- | --- |\n",
    "`Ctrl+L` | Clear terminal screen\n",
    "`Ctrl+C` | **Interrupt current Python command**\n",
    "`Ctrl+D` | Exit IPython session"
   ]
  },
  {
   "cell_type": "markdown",
   "id": "1f858f9e",
   "metadata": {},
   "source": [
    "## IPython Magic Commands"
   ]
  },
  {
   "cell_type": "markdown",
   "id": "9503bdc4",
   "metadata": {},
   "source": [
    "These are known in IPython as magic commands, and are prefixed by the `%` character. These magic commands are designed to succinctly solve various common problems in standard data analysis. Magic commands come in two flavors:\n",
    "\n",
    "- *line magics*, which are denoted by a single `%` prefix and operate on a single line of input\n",
    "- *cell magics*, which are denoted by a double `%%` prefix and operate on multiple lines of input."
   ]
  },
  {
   "cell_type": "markdown",
   "id": "7a446ebc",
   "metadata": {},
   "source": [
    "### Pasting Code Blocks: %paste and %cpaste\n",
    "Try copying the below function into an IPython shell."
   ]
  },
  {
   "cell_type": "code",
   "execution_count": 12,
   "id": "5a68fbbd",
   "metadata": {},
   "outputs": [],
   "source": [
    ">>> def donothing(x):\n",
    "...    return x"
   ]
  },
  {
   "cell_type": "markdown",
   "id": "9ce433fe",
   "metadata": {},
   "source": [
    "Now, try pasting it by using the `%paste` magic command."
   ]
  },
  {
   "cell_type": "markdown",
   "id": "475ed252",
   "metadata": {},
   "source": [
    "A command with a similar intent is `%cpaste`, which opens up an interactive multiline prompt in which you can paste one or more chunks of code to be executed in a batch"
   ]
  },
  {
   "cell_type": "markdown",
   "id": "69825fba",
   "metadata": {},
   "source": [
    "### Running External Code: %run"
   ]
  },
  {
   "cell_type": "code",
   "execution_count": 13,
   "id": "67b22a82",
   "metadata": {},
   "outputs": [
    {
     "name": "stdout",
     "output_type": "stream",
     "text": [
      "1 squared is 1\n",
      "2 squared is 4\n",
      "3 squared is 9\n"
     ]
    }
   ],
   "source": [
    "%run myscript.py"
   ]
  },
  {
   "cell_type": "code",
   "execution_count": 14,
   "id": "91a9550c",
   "metadata": {},
   "outputs": [
    {
     "data": {
      "text/plain": [
       "25"
      ]
     },
     "execution_count": 14,
     "metadata": {},
     "output_type": "execute_result"
    }
   ],
   "source": [
    "square(5)"
   ]
  },
  {
   "cell_type": "code",
   "execution_count": 15,
   "id": "ded13ae1",
   "metadata": {},
   "outputs": [],
   "source": [
    "%run?"
   ]
  },
  {
   "cell_type": "markdown",
   "id": "fa54b221",
   "metadata": {},
   "source": [
    "### Timing Code Execution: %timeit and %%timeit"
   ]
  },
  {
   "cell_type": "code",
   "execution_count": 16,
   "id": "cb989108",
   "metadata": {},
   "outputs": [
    {
     "name": "stdout",
     "output_type": "stream",
     "text": [
      "203 µs ± 896 ns per loop (mean ± std. dev. of 7 runs, 1,000 loops each)\n"
     ]
    }
   ],
   "source": [
    "%timeit l = [n ** 2 for n in range(1000)]"
   ]
  },
  {
   "cell_type": "code",
   "execution_count": 17,
   "id": "d4016e9b",
   "metadata": {},
   "outputs": [
    {
     "name": "stdout",
     "output_type": "stream",
     "text": [
      "217 µs ± 1.27 µs per loop (mean ± std. dev. of 7 runs, 1,000 loops each)\n"
     ]
    }
   ],
   "source": [
    "%%timeit\n",
    "l = []\n",
    "for n in range(1000):\n",
    "    l.append(n**2)"
   ]
  },
  {
   "cell_type": "markdown",
   "id": "8a25b2fc",
   "metadata": {},
   "source": [
    "### Help on Magic Functions: ?, %magic, and %lsmagic"
   ]
  },
  {
   "cell_type": "code",
   "execution_count": 18,
   "id": "5edb6f41",
   "metadata": {},
   "outputs": [],
   "source": [
    "%timeit?"
   ]
  },
  {
   "cell_type": "code",
   "execution_count": 19,
   "id": "51eea0fb",
   "metadata": {},
   "outputs": [],
   "source": [
    "%magic"
   ]
  },
  {
   "cell_type": "code",
   "execution_count": 20,
   "id": "86f81c44",
   "metadata": {},
   "outputs": [
    {
     "data": {
      "application/json": {
       "cell": {
        "!": "OSMagics",
        "HTML": "Other",
        "SVG": "Other",
        "bash": "Other",
        "capture": "ExecutionMagics",
        "debug": "ExecutionMagics",
        "file": "Other",
        "html": "DisplayMagics",
        "javascript": "DisplayMagics",
        "js": "DisplayMagics",
        "latex": "DisplayMagics",
        "markdown": "DisplayMagics",
        "perl": "Other",
        "prun": "ExecutionMagics",
        "pypy": "Other",
        "python": "Other",
        "python2": "Other",
        "python3": "Other",
        "ruby": "Other",
        "script": "ScriptMagics",
        "sh": "Other",
        "svg": "DisplayMagics",
        "sx": "OSMagics",
        "system": "OSMagics",
        "time": "ExecutionMagics",
        "timeit": "ExecutionMagics",
        "writefile": "OSMagics"
       },
       "line": {
        "alias": "OSMagics",
        "alias_magic": "BasicMagics",
        "autoawait": "AsyncMagics",
        "autocall": "AutoMagics",
        "automagic": "AutoMagics",
        "autosave": "KernelMagics",
        "bookmark": "OSMagics",
        "cat": "Other",
        "cd": "OSMagics",
        "clear": "KernelMagics",
        "colors": "BasicMagics",
        "conda": "PackagingMagics",
        "config": "ConfigMagics",
        "connect_info": "KernelMagics",
        "cp": "Other",
        "debug": "ExecutionMagics",
        "dhist": "OSMagics",
        "dirs": "OSMagics",
        "doctest_mode": "BasicMagics",
        "ed": "Other",
        "edit": "KernelMagics",
        "env": "OSMagics",
        "gui": "BasicMagics",
        "hist": "Other",
        "history": "HistoryMagics",
        "killbgscripts": "ScriptMagics",
        "ldir": "Other",
        "less": "KernelMagics",
        "lf": "Other",
        "lk": "Other",
        "ll": "Other",
        "load": "CodeMagics",
        "load_ext": "ExtensionMagics",
        "loadpy": "CodeMagics",
        "logoff": "LoggingMagics",
        "logon": "LoggingMagics",
        "logstart": "LoggingMagics",
        "logstate": "LoggingMagics",
        "logstop": "LoggingMagics",
        "ls": "Other",
        "lsmagic": "BasicMagics",
        "lx": "Other",
        "macro": "ExecutionMagics",
        "magic": "BasicMagics",
        "man": "KernelMagics",
        "matplotlib": "PylabMagics",
        "mkdir": "Other",
        "more": "KernelMagics",
        "mv": "Other",
        "notebook": "BasicMagics",
        "page": "BasicMagics",
        "pastebin": "CodeMagics",
        "pdb": "ExecutionMagics",
        "pdef": "NamespaceMagics",
        "pdoc": "NamespaceMagics",
        "pfile": "NamespaceMagics",
        "pinfo": "NamespaceMagics",
        "pinfo2": "NamespaceMagics",
        "pip": "PackagingMagics",
        "popd": "OSMagics",
        "pprint": "BasicMagics",
        "precision": "BasicMagics",
        "prun": "ExecutionMagics",
        "psearch": "NamespaceMagics",
        "psource": "NamespaceMagics",
        "pushd": "OSMagics",
        "pwd": "OSMagics",
        "pycat": "OSMagics",
        "pylab": "PylabMagics",
        "qtconsole": "KernelMagics",
        "quickref": "BasicMagics",
        "recall": "HistoryMagics",
        "rehashx": "OSMagics",
        "reload_ext": "ExtensionMagics",
        "rep": "Other",
        "rerun": "HistoryMagics",
        "reset": "NamespaceMagics",
        "reset_selective": "NamespaceMagics",
        "rm": "Other",
        "rmdir": "Other",
        "run": "ExecutionMagics",
        "save": "CodeMagics",
        "sc": "OSMagics",
        "set_env": "OSMagics",
        "store": "StoreMagics",
        "sx": "OSMagics",
        "system": "OSMagics",
        "tb": "ExecutionMagics",
        "time": "ExecutionMagics",
        "timeit": "ExecutionMagics",
        "unalias": "OSMagics",
        "unload_ext": "ExtensionMagics",
        "who": "NamespaceMagics",
        "who_ls": "NamespaceMagics",
        "whos": "NamespaceMagics",
        "xdel": "NamespaceMagics",
        "xmode": "BasicMagics"
       }
      },
      "text/plain": [
       "Available line magics:\n",
       "%alias  %alias_magic  %autoawait  %autocall  %automagic  %autosave  %bookmark  %cat  %cd  %clear  %colors  %conda  %config  %connect_info  %cp  %debug  %dhist  %dirs  %doctest_mode  %ed  %edit  %env  %gui  %hist  %history  %killbgscripts  %ldir  %less  %lf  %lk  %ll  %load  %load_ext  %loadpy  %logoff  %logon  %logstart  %logstate  %logstop  %ls  %lsmagic  %lx  %macro  %magic  %man  %matplotlib  %mkdir  %more  %mv  %notebook  %page  %pastebin  %pdb  %pdef  %pdoc  %pfile  %pinfo  %pinfo2  %pip  %popd  %pprint  %precision  %prun  %psearch  %psource  %pushd  %pwd  %pycat  %pylab  %qtconsole  %quickref  %recall  %rehashx  %reload_ext  %rep  %rerun  %reset  %reset_selective  %rm  %rmdir  %run  %save  %sc  %set_env  %store  %sx  %system  %tb  %time  %timeit  %unalias  %unload_ext  %who  %who_ls  %whos  %xdel  %xmode\n",
       "\n",
       "Available cell magics:\n",
       "%%!  %%HTML  %%SVG  %%bash  %%capture  %%debug  %%file  %%html  %%javascript  %%js  %%latex  %%markdown  %%perl  %%prun  %%pypy  %%python  %%python2  %%python3  %%ruby  %%script  %%sh  %%svg  %%sx  %%system  %%time  %%timeit  %%writefile\n",
       "\n",
       "Automagic is ON, % prefix IS NOT needed for line magics."
      ]
     },
     "execution_count": 20,
     "metadata": {},
     "output_type": "execute_result"
    }
   ],
   "source": [
    "%lsmagic"
   ]
  },
  {
   "cell_type": "markdown",
   "id": "130999f1",
   "metadata": {},
   "source": [
    "## IPython’s In and Out Objects"
   ]
  },
  {
   "cell_type": "code",
   "execution_count": 21,
   "id": "2d918415",
   "metadata": {},
   "outputs": [
    {
     "name": "stdout",
     "output_type": "stream",
     "text": [
      "['', 'help(len)', \"get_ipython().run_line_magic('pinfo', 'len')\", \"L = [1, 2, 3]\\nget_ipython().run_line_magic('pinfo', 'L.insert')\", \"get_ipython().run_line_magic('pinfo', 'L')\", 'def square(a):\\n    \"\"\"Return the square of a.\"\"\"\\n    return a ** 2\\n\\nget_ipython().run_line_magic(\\'pinfo\\', \\'square\\')', \"# Accessing Source code\\nget_ipython().run_line_magic('pinfo2', 'square')\", \"# The source code will not be shown because it has been implemented in C.\\nget_ipython().run_line_magic('pinfo2', 'len')\", '# TODO: Try pressing TAB key after writing L. in the next line', '# Try pressing TAB after placing the text cursor at the end of next line.\\nfrom itertools import co', \"# Note that * matches any string\\nget_ipython().run_line_magic('psearch', '*Warning')\", \"get_ipython().run_line_magic('psearch', 'str.*find*')\", 'def donothing(x):\\n   return x', \"get_ipython().run_line_magic('run', 'myscript.py')\", 'square(5)', \"get_ipython().run_line_magic('pinfo', '%run')\", \"get_ipython().run_line_magic('timeit', 'l = [n ** 2 for n in range(1000)]')\", \"get_ipython().run_cell_magic('timeit', '', 'l = []\\\\nfor n in range(1000):\\\\n    l.append(n**2)\\\\n')\", \"get_ipython().run_line_magic('pinfo', '%timeit')\", \"get_ipython().run_line_magic('magic', '')\", \"get_ipython().run_line_magic('lsmagic', '')\", 'print(In)']\n"
     ]
    }
   ],
   "source": [
    "print(In)"
   ]
  },
  {
   "cell_type": "code",
   "execution_count": 22,
   "id": "efce1d16",
   "metadata": {},
   "outputs": [
    {
     "data": {
      "text/plain": [
       "{14: 25,\n",
       " 20: Available line magics:\n",
       "%alias  %alias_magic  %autoawait  %autocall  %automagic  %autosave  %bookmark  %cat  %cd  %clear  %colors  %conda  %config  %connect_info  %cp  %debug  %dhist  %dirs  %doctest_mode  %ed  %edit  %env  %gui  %hist  %history  %killbgscripts  %ldir  %less  %lf  %lk  %ll  %load  %load_ext  %loadpy  %logoff  %logon  %logstart  %logstate  %logstop  %ls  %lsmagic  %lx  %macro  %magic  %man  %matplotlib  %mkdir  %more  %mv  %notebook  %page  %pastebin  %pdb  %pdef  %pdoc  %pfile  %pinfo  %pinfo2  %pip  %popd  %pprint  %precision  %prun  %psearch  %psource  %pushd  %pwd  %pycat  %pylab  %qtconsole  %quickref  %recall  %rehashx  %reload_ext  %rep  %rerun  %reset  %reset_selective  %rm  %rmdir  %run  %save  %sc  %set_env  %store  %sx  %system  %tb  %time  %timeit  %unalias  %unload_ext  %who  %who_ls  %whos  %xdel  %xmode\n",
       "\n",
       "Available cell magics:\n",
       "%%!  %%HTML  %%SVG  %%bash  %%capture  %%debug  %%file  %%html  %%javascript  %%js  %%latex  %%markdown  %%perl  %%prun  %%pypy  %%python  %%python2  %%python3  %%ruby  %%script  %%sh  %%svg  %%sx  %%system  %%time  %%timeit  %%writefile\n",
       "\n",
       "Automagic is ON, % prefix IS NOT needed for line magics.}"
      ]
     },
     "execution_count": 22,
     "metadata": {},
     "output_type": "execute_result"
    }
   ],
   "source": [
    "Out  # Note that the return type is a dictionary."
   ]
  },
  {
   "cell_type": "code",
   "execution_count": 23,
   "id": "1f65a518",
   "metadata": {},
   "outputs": [
    {
     "data": {
      "text/plain": [
       "15625"
      ]
     },
     "execution_count": 23,
     "metadata": {},
     "output_type": "execute_result"
    }
   ],
   "source": [
    "Out[14] ** 3"
   ]
  },
  {
   "cell_type": "markdown",
   "id": "40b40b4a",
   "metadata": {},
   "source": [
    "### Underscore Shortcuts and Previous Outputs"
   ]
  },
  {
   "cell_type": "code",
   "execution_count": 24,
   "id": "f503a2b9",
   "metadata": {},
   "outputs": [
    {
     "name": "stdout",
     "output_type": "stream",
     "text": [
      "15625\n"
     ]
    }
   ],
   "source": [
    "# Prints the previous output\n",
    "print(_)"
   ]
  },
  {
   "cell_type": "code",
   "execution_count": 25,
   "id": "e4944ce3",
   "metadata": {},
   "outputs": [
    {
     "name": "stdout",
     "output_type": "stream",
     "text": [
      "Available line magics:\n",
      "%alias  %alias_magic  %autoawait  %autocall  %automagic  %autosave  %bookmark  %cat  %cd  %clear  %colors  %conda  %config  %connect_info  %cp  %debug  %dhist  %dirs  %doctest_mode  %ed  %edit  %env  %gui  %hist  %history  %killbgscripts  %ldir  %less  %lf  %lk  %ll  %load  %load_ext  %loadpy  %logoff  %logon  %logstart  %logstate  %logstop  %ls  %lsmagic  %lx  %macro  %magic  %man  %matplotlib  %mkdir  %more  %mv  %notebook  %page  %pastebin  %pdb  %pdef  %pdoc  %pfile  %pinfo  %pinfo2  %pip  %popd  %pprint  %precision  %prun  %psearch  %psource  %pushd  %pwd  %pycat  %pylab  %qtconsole  %quickref  %recall  %rehashx  %reload_ext  %rep  %rerun  %reset  %reset_selective  %rm  %rmdir  %run  %save  %sc  %set_env  %store  %sx  %system  %tb  %time  %timeit  %unalias  %unload_ext  %who  %who_ls  %whos  %xdel  %xmode\n",
      "\n",
      "Available cell magics:\n",
      "%%!  %%HTML  %%SVG  %%bash  %%capture  %%debug  %%file  %%html  %%javascript  %%js  %%latex  %%markdown  %%perl  %%prun  %%pypy  %%python  %%python2  %%python3  %%ruby  %%script  %%sh  %%svg  %%sx  %%system  %%time  %%timeit  %%writefile\n",
      "\n",
      "Automagic is ON, % prefix IS NOT needed for line magics.\n"
     ]
    }
   ],
   "source": [
    "# Prints the output before previous output\n",
    "print(__)"
   ]
  },
  {
   "cell_type": "code",
   "execution_count": 26,
   "id": "eb35079d",
   "metadata": {},
   "outputs": [
    {
     "name": "stdout",
     "output_type": "stream",
     "text": [
      "25\n"
     ]
    }
   ],
   "source": [
    "# Prints the third-to-last output\n",
    "print(___)"
   ]
  },
  {
   "cell_type": "code",
   "execution_count": 27,
   "id": "94e00028",
   "metadata": {},
   "outputs": [
    {
     "data": {
      "text/plain": [
       "25"
      ]
     },
     "execution_count": 27,
     "metadata": {},
     "output_type": "execute_result"
    }
   ],
   "source": [
    "Out[14]"
   ]
  },
  {
   "cell_type": "code",
   "execution_count": 28,
   "id": "b719f75b",
   "metadata": {},
   "outputs": [
    {
     "data": {
      "text/plain": [
       "25"
      ]
     },
     "execution_count": 28,
     "metadata": {},
     "output_type": "execute_result"
    }
   ],
   "source": [
    "_14"
   ]
  },
  {
   "cell_type": "markdown",
   "id": "736e965c",
   "metadata": {},
   "source": [
    "### Suppressing Output using semicolon (;)"
   ]
  },
  {
   "cell_type": "code",
   "execution_count": 29,
   "id": "108cba03",
   "metadata": {},
   "outputs": [],
   "source": [
    "import math\n",
    "math.sin(2) + math.cos(2);"
   ]
  },
  {
   "cell_type": "code",
   "execution_count": 30,
   "id": "bc6e24f7",
   "metadata": {},
   "outputs": [
    {
     "data": {
      "text/plain": [
       "False"
      ]
     },
     "execution_count": 30,
     "metadata": {},
     "output_type": "execute_result"
    }
   ],
   "source": [
    "38 in Out"
   ]
  },
  {
   "cell_type": "markdown",
   "id": "1cfe9513",
   "metadata": {},
   "source": [
    "### Related Magic Commands\n",
    "\n",
    "For accessing a batch of previous inputs at once, the `%history` magic command is very helpful. Here is how you can print the first four inputs:"
   ]
  },
  {
   "cell_type": "code",
   "execution_count": 31,
   "id": "c8bfb234",
   "metadata": {},
   "outputs": [
    {
     "name": "stdout",
     "output_type": "stream",
     "text": [
      "   1: help(len)\n",
      "   2: len?\n",
      "   3:\n",
      "L = [1, 2, 3]\n",
      "L.insert?\n",
      "   4: L?\n"
     ]
    }
   ],
   "source": [
    "%history -n 1-4"
   ]
  },
  {
   "cell_type": "code",
   "execution_count": 32,
   "id": "cfa39cd0",
   "metadata": {},
   "outputs": [],
   "source": [
    "%rerun?"
   ]
  },
  {
   "cell_type": "code",
   "execution_count": 33,
   "id": "71770bf0",
   "metadata": {},
   "outputs": [],
   "source": [
    "%save?"
   ]
  },
  {
   "cell_type": "markdown",
   "id": "515bb21b",
   "metadata": {},
   "source": [
    "## Shell Commands in IPython\n",
    "\n",
    "You can use any command that works at the command line in IPython by prefixing it with the `!` character."
   ]
  },
  {
   "cell_type": "code",
   "execution_count": 34,
   "id": "769d1c63",
   "metadata": {},
   "outputs": [
    {
     "name": "stdout",
     "output_type": "stream",
     "text": [
      "IPython.ipynb myscript.py\r\n"
     ]
    }
   ],
   "source": [
    "!ls"
   ]
  },
  {
   "cell_type": "code",
   "execution_count": 35,
   "id": "d0050fde",
   "metadata": {},
   "outputs": [
    {
     "name": "stdout",
     "output_type": "stream",
     "text": [
      "/Users/alireza/ENSF592/Lecture 10\r\n"
     ]
    }
   ],
   "source": [
    "!pwd"
   ]
  },
  {
   "cell_type": "code",
   "execution_count": 36,
   "id": "dff0b5c3",
   "metadata": {},
   "outputs": [
    {
     "name": "stdout",
     "output_type": "stream",
     "text": [
      "printing from the shell\r\n"
     ]
    }
   ],
   "source": [
    "!echo \"printing from the shell\""
   ]
  },
  {
   "cell_type": "markdown",
   "id": "ae083fd1",
   "metadata": {},
   "source": [
    "### Passing Values to and from the Shell"
   ]
  },
  {
   "cell_type": "code",
   "execution_count": 37,
   "id": "806e5105",
   "metadata": {},
   "outputs": [
    {
     "data": {
      "text/plain": [
       "['IPython.ipynb', 'myscript.py']"
      ]
     },
     "execution_count": 37,
     "metadata": {},
     "output_type": "execute_result"
    }
   ],
   "source": [
    "contents = !ls\n",
    "contents"
   ]
  },
  {
   "cell_type": "code",
   "execution_count": 38,
   "id": "412e3665",
   "metadata": {},
   "outputs": [
    {
     "data": {
      "text/plain": [
       "IPython.utils.text.SList"
      ]
     },
     "execution_count": 38,
     "metadata": {},
     "output_type": "execute_result"
    }
   ],
   "source": [
    "type(contents)"
   ]
  },
  {
   "cell_type": "markdown",
   "id": "5a57c707",
   "metadata": {},
   "source": [
    "Passing Python variables into the shell is possible through the `{varname}` syntax."
   ]
  },
  {
   "cell_type": "code",
   "execution_count": 39,
   "id": "f2f878c6",
   "metadata": {},
   "outputs": [
    {
     "name": "stdout",
     "output_type": "stream",
     "text": [
      "hello from Python\r\n"
     ]
    }
   ],
   "source": [
    "message = \"hello from Python\"\n",
    "!echo {message}"
   ]
  },
  {
   "cell_type": "markdown",
   "id": "580177da",
   "metadata": {},
   "source": [
    "### Shell-Related Magic Commands"
   ]
  },
  {
   "cell_type": "code",
   "execution_count": 40,
   "id": "c3270247",
   "metadata": {},
   "outputs": [
    {
     "name": "stdout",
     "output_type": "stream",
     "text": [
      "/Users/alireza/ENSF592/Lecture 10\r\n"
     ]
    }
   ],
   "source": [
    "!pwd"
   ]
  },
  {
   "cell_type": "code",
   "execution_count": 41,
   "id": "9726db61",
   "metadata": {},
   "outputs": [
    {
     "name": "stdout",
     "output_type": "stream",
     "text": [
      "/Users/alireza/ENSF592/Lecture 10\r\n"
     ]
    }
   ],
   "source": [
    "!cd ..\n",
    "!pwd"
   ]
  },
  {
   "cell_type": "markdown",
   "id": "c34f7fe6",
   "metadata": {},
   "source": [
    "The reason is that shell commands in the notebook are executed in a temporary subshell. If you’d like to change the working directory, you can use the `%cd` magic command."
   ]
  },
  {
   "cell_type": "code",
   "execution_count": 42,
   "id": "6db6433f",
   "metadata": {},
   "outputs": [
    {
     "name": "stdout",
     "output_type": "stream",
     "text": [
      "/Users/alireza/ENSF592\n"
     ]
    }
   ],
   "source": [
    "%cd .."
   ]
  },
  {
   "cell_type": "code",
   "execution_count": 43,
   "id": "70b59ff3",
   "metadata": {},
   "outputs": [
    {
     "name": "stdout",
     "output_type": "stream",
     "text": [
      "/Users/alireza/ENSF592/Lecture 10\n"
     ]
    }
   ],
   "source": [
    "cd 'Lecture 10'"
   ]
  },
  {
   "cell_type": "markdown",
   "id": "6fa1d7ed",
   "metadata": {},
   "source": [
    "This is known as an **automagic** function, and this behavior can be toggled with the *%automagic* magic function. Besides %cd, other available shell-like magic functions are `%cat`, `%cp`, `%env`, `%ls`, `%man`,\n",
    "`%mkdir`, `%more`, `%mv`, `%pwd`, `%rm`, and `%rmdir`, any of which can be used without the % sign if *automagic* is on.\n",
    "\n",
    "This access to the shell from within the same terminal window as your Python session means that there is a lot **less** switching back and forth between interpreter and shell as you write your Python code."
   ]
  },
  {
   "cell_type": "markdown",
   "id": "640d5982",
   "metadata": {},
   "source": [
    "## Errors and Debugging"
   ]
  },
  {
   "cell_type": "code",
   "execution_count": 44,
   "id": "ce9992b8",
   "metadata": {},
   "outputs": [
    {
     "ename": "ZeroDivisionError",
     "evalue": "division by zero",
     "output_type": "error",
     "traceback": [
      "\u001b[0;31m---------------------------------------------------------------------------\u001b[0m",
      "\u001b[0;31mZeroDivisionError\u001b[0m                         Traceback (most recent call last)",
      "Input \u001b[0;32mIn [44]\u001b[0m, in \u001b[0;36m<cell line: 9>\u001b[0;34m()\u001b[0m\n\u001b[1;32m      6\u001b[0m     b \u001b[38;5;241m=\u001b[39m x \u001b[38;5;241m-\u001b[39m \u001b[38;5;241m1\u001b[39m\n\u001b[1;32m      7\u001b[0m     \u001b[38;5;28;01mreturn\u001b[39;00m func1(a, b)\n\u001b[0;32m----> 9\u001b[0m \u001b[43mfunc2\u001b[49m\u001b[43m(\u001b[49m\u001b[38;5;241;43m1\u001b[39;49m\u001b[43m)\u001b[49m\n",
      "Input \u001b[0;32mIn [44]\u001b[0m, in \u001b[0;36mfunc2\u001b[0;34m(x)\u001b[0m\n\u001b[1;32m      5\u001b[0m a \u001b[38;5;241m=\u001b[39m x\n\u001b[1;32m      6\u001b[0m b \u001b[38;5;241m=\u001b[39m x \u001b[38;5;241m-\u001b[39m \u001b[38;5;241m1\u001b[39m\n\u001b[0;32m----> 7\u001b[0m \u001b[38;5;28;01mreturn\u001b[39;00m \u001b[43mfunc1\u001b[49m\u001b[43m(\u001b[49m\u001b[43ma\u001b[49m\u001b[43m,\u001b[49m\u001b[43m \u001b[49m\u001b[43mb\u001b[49m\u001b[43m)\u001b[49m\n",
      "Input \u001b[0;32mIn [44]\u001b[0m, in \u001b[0;36mfunc1\u001b[0;34m(a, b)\u001b[0m\n\u001b[1;32m      1\u001b[0m \u001b[38;5;28;01mdef\u001b[39;00m \u001b[38;5;21mfunc1\u001b[39m(a, b):\n\u001b[0;32m----> 2\u001b[0m     \u001b[38;5;28;01mreturn\u001b[39;00m \u001b[43ma\u001b[49m\u001b[43m \u001b[49m\u001b[38;5;241;43m/\u001b[39;49m\u001b[43m \u001b[49m\u001b[43mb\u001b[49m\n",
      "\u001b[0;31mZeroDivisionError\u001b[0m: division by zero"
     ]
    }
   ],
   "source": [
    "def func1(a, b):\n",
    "    return a / b\n",
    "\n",
    "def func2(x):\n",
    "    a = x\n",
    "    b = x - 1\n",
    "    return func1(a, b)\n",
    "\n",
    "func2(1)"
   ]
  },
  {
   "cell_type": "code",
   "execution_count": 45,
   "id": "c5d952ab",
   "metadata": {},
   "outputs": [
    {
     "name": "stdout",
     "output_type": "stream",
     "text": [
      "Exception reporting mode: Plain\n"
     ]
    }
   ],
   "source": [
    "%xmode Plain"
   ]
  },
  {
   "cell_type": "markdown",
   "id": "01196d13",
   "metadata": {},
   "source": [
    "`%xmode` takes a single argument, the mode, and there are three possibilities: \n",
    "\n",
    "Plain, Context, and Verbose. \n",
    "\n",
    "The default is Context, and gives output like that just shown."
   ]
  },
  {
   "cell_type": "code",
   "execution_count": 46,
   "id": "bef6de88",
   "metadata": {},
   "outputs": [
    {
     "ename": "ZeroDivisionError",
     "evalue": "division by zero",
     "output_type": "error",
     "traceback": [
      "Traceback \u001b[0;36m(most recent call last)\u001b[0m:\n",
      "  Input \u001b[1;32mIn [46]\u001b[0m in \u001b[1;35m<cell line: 1>\u001b[0m\n    func2(1)\n",
      "  Input \u001b[1;32mIn [44]\u001b[0m in \u001b[1;35mfunc2\u001b[0m\n    return func1(a, b)\n",
      "\u001b[0;36m  Input \u001b[0;32mIn [44]\u001b[0;36m in \u001b[0;35mfunc1\u001b[0;36m\u001b[0m\n\u001b[0;31m    return a / b\u001b[0m\n",
      "\u001b[0;31mZeroDivisionError\u001b[0m\u001b[0;31m:\u001b[0m division by zero\n"
     ]
    }
   ],
   "source": [
    "func2(1)"
   ]
  },
  {
   "cell_type": "code",
   "execution_count": 47,
   "id": "a3f707db",
   "metadata": {},
   "outputs": [
    {
     "name": "stdout",
     "output_type": "stream",
     "text": [
      "Exception reporting mode: Verbose\n"
     ]
    }
   ],
   "source": [
    "%xmode Verbose"
   ]
  },
  {
   "cell_type": "markdown",
   "id": "460245a9",
   "metadata": {},
   "source": [
    "The Verbose mode adds some extra information, including the **arguments** to any\n",
    "functions that are called"
   ]
  },
  {
   "cell_type": "code",
   "execution_count": 48,
   "id": "e44bec2a",
   "metadata": {},
   "outputs": [
    {
     "ename": "ZeroDivisionError",
     "evalue": "division by zero",
     "output_type": "error",
     "traceback": [
      "\u001b[0;31m---------------------------------------------------------------------------\u001b[0m",
      "\u001b[0;31mZeroDivisionError\u001b[0m                         Traceback (most recent call last)",
      "Input \u001b[0;32mIn [48]\u001b[0m, in \u001b[0;36m<cell line: 1>\u001b[0;34m()\u001b[0m\n\u001b[0;32m----> 1\u001b[0m \u001b[43mfunc2\u001b[49m\u001b[43m(\u001b[49m\u001b[38;5;241;43m1\u001b[39;49m\u001b[43m)\u001b[49m\n",
      "Input \u001b[0;32mIn [44]\u001b[0m, in \u001b[0;36mfunc2\u001b[0;34m(x=1)\u001b[0m\n\u001b[1;32m      5\u001b[0m a \u001b[38;5;241m=\u001b[39m x\n\u001b[1;32m      6\u001b[0m b \u001b[38;5;241m=\u001b[39m x \u001b[38;5;241m-\u001b[39m \u001b[38;5;241m1\u001b[39m\n\u001b[0;32m----> 7\u001b[0m \u001b[38;5;28;01mreturn\u001b[39;00m \u001b[43mfunc1\u001b[49m\u001b[43m(\u001b[49m\u001b[43ma\u001b[49m\u001b[43m,\u001b[49m\u001b[43m \u001b[49m\u001b[43mb\u001b[49m\u001b[43m)\u001b[49m\n        a \u001b[0;34m= 1\u001b[0m\u001b[0;34m\n        \u001b[0mb \u001b[0;34m= 0\u001b[0m\n",
      "Input \u001b[0;32mIn [44]\u001b[0m, in \u001b[0;36mfunc1\u001b[0;34m(a=1, b=0)\u001b[0m\n\u001b[1;32m      1\u001b[0m \u001b[38;5;28;01mdef\u001b[39;00m \u001b[38;5;21mfunc1\u001b[39m(a, b):\n\u001b[0;32m----> 2\u001b[0m     \u001b[38;5;28;01mreturn\u001b[39;00m \u001b[43ma\u001b[49m\u001b[43m \u001b[49m\u001b[38;5;241;43m/\u001b[39;49m\u001b[43m \u001b[49m\u001b[43mb\u001b[49m\n        a \u001b[0;34m= 1\u001b[0m\u001b[0;34m\n        \u001b[0mb \u001b[0;34m= 0\u001b[0m\n",
      "\u001b[0;31mZeroDivisionError\u001b[0m: division by zero"
     ]
    }
   ],
   "source": [
    "func2(1)"
   ]
  },
  {
   "cell_type": "markdown",
   "id": "89bafe1a",
   "metadata": {},
   "source": [
    "The most convenient interface to debugging is the `%debug` magic\n",
    "command. If you call it **after hitting an exception**, it will automatically open an interactive\n",
    "debugging prompt at the point of the exception. The *ipdb* (The standard IPython tool for interactive debugging) prompt lets you explore the current state of the stack, explore the available variables, and even run\n",
    "Python commands!"
   ]
  },
  {
   "cell_type": "code",
   "execution_count": 49,
   "id": "9c170e35",
   "metadata": {},
   "outputs": [
    {
     "name": "stdout",
     "output_type": "stream",
     "text": [
      "> \u001b[0;32m/var/folders/5k/98sfwc1x3bqgx7n4056zw2q80000gn/T/ipykernel_6413/820246691.py\u001b[0m(2)\u001b[0;36mfunc1\u001b[0;34m()\u001b[0m\n",
      "\u001b[0;32m      1 \u001b[0;31m\u001b[0;32mdef\u001b[0m \u001b[0mfunc1\u001b[0m\u001b[0;34m(\u001b[0m\u001b[0ma\u001b[0m\u001b[0;34m,\u001b[0m \u001b[0mb\u001b[0m\u001b[0;34m)\u001b[0m\u001b[0;34m:\u001b[0m\u001b[0;34m\u001b[0m\u001b[0;34m\u001b[0m\u001b[0m\n",
      "\u001b[0m\u001b[0;32m----> 2 \u001b[0;31m    \u001b[0;32mreturn\u001b[0m \u001b[0ma\u001b[0m \u001b[0;34m/\u001b[0m \u001b[0mb\u001b[0m\u001b[0;34m\u001b[0m\u001b[0;34m\u001b[0m\u001b[0m\n",
      "\u001b[0m\u001b[0;32m      3 \u001b[0;31m\u001b[0;34m\u001b[0m\u001b[0m\n",
      "\u001b[0m\u001b[0;32m      4 \u001b[0;31m\u001b[0;32mdef\u001b[0m \u001b[0mfunc2\u001b[0m\u001b[0;34m(\u001b[0m\u001b[0mx\u001b[0m\u001b[0;34m)\u001b[0m\u001b[0;34m:\u001b[0m\u001b[0;34m\u001b[0m\u001b[0;34m\u001b[0m\u001b[0m\n",
      "\u001b[0m\u001b[0;32m      5 \u001b[0;31m    \u001b[0ma\u001b[0m \u001b[0;34m=\u001b[0m \u001b[0mx\u001b[0m\u001b[0;34m\u001b[0m\u001b[0;34m\u001b[0m\u001b[0m\n",
      "\u001b[0m\n",
      "ipdb> print(a)\n",
      "1\n",
      "ipdb> print(b)\n",
      "0\n",
      "ipdb> up\n",
      "> \u001b[0;32m/var/folders/5k/98sfwc1x3bqgx7n4056zw2q80000gn/T/ipykernel_6413/820246691.py\u001b[0m(7)\u001b[0;36mfunc2\u001b[0;34m()\u001b[0m\n",
      "\u001b[0;32m      5 \u001b[0;31m    \u001b[0ma\u001b[0m \u001b[0;34m=\u001b[0m \u001b[0mx\u001b[0m\u001b[0;34m\u001b[0m\u001b[0;34m\u001b[0m\u001b[0m\n",
      "\u001b[0m\u001b[0;32m      6 \u001b[0;31m    \u001b[0mb\u001b[0m \u001b[0;34m=\u001b[0m \u001b[0mx\u001b[0m \u001b[0;34m-\u001b[0m \u001b[0;36m1\u001b[0m\u001b[0;34m\u001b[0m\u001b[0;34m\u001b[0m\u001b[0m\n",
      "\u001b[0m\u001b[0;32m----> 7 \u001b[0;31m    \u001b[0;32mreturn\u001b[0m \u001b[0mfunc1\u001b[0m\u001b[0;34m(\u001b[0m\u001b[0ma\u001b[0m\u001b[0;34m,\u001b[0m \u001b[0mb\u001b[0m\u001b[0;34m)\u001b[0m\u001b[0;34m\u001b[0m\u001b[0;34m\u001b[0m\u001b[0m\n",
      "\u001b[0m\u001b[0;32m      8 \u001b[0;31m\u001b[0;34m\u001b[0m\u001b[0m\n",
      "\u001b[0m\u001b[0;32m      9 \u001b[0;31m\u001b[0mfunc2\u001b[0m\u001b[0;34m(\u001b[0m\u001b[0;36m1\u001b[0m\u001b[0;34m)\u001b[0m\u001b[0;34m\u001b[0m\u001b[0;34m\u001b[0m\u001b[0m\n",
      "\u001b[0m\n",
      "ipdb> print(x)\n",
      "1\n",
      "ipdb> down\n",
      "> \u001b[0;32m/var/folders/5k/98sfwc1x3bqgx7n4056zw2q80000gn/T/ipykernel_6413/820246691.py\u001b[0m(2)\u001b[0;36mfunc1\u001b[0;34m()\u001b[0m\n",
      "\u001b[0;32m      1 \u001b[0;31m\u001b[0;32mdef\u001b[0m \u001b[0mfunc1\u001b[0m\u001b[0;34m(\u001b[0m\u001b[0ma\u001b[0m\u001b[0;34m,\u001b[0m \u001b[0mb\u001b[0m\u001b[0;34m)\u001b[0m\u001b[0;34m:\u001b[0m\u001b[0;34m\u001b[0m\u001b[0;34m\u001b[0m\u001b[0m\n",
      "\u001b[0m\u001b[0;32m----> 2 \u001b[0;31m    \u001b[0;32mreturn\u001b[0m \u001b[0ma\u001b[0m \u001b[0;34m/\u001b[0m \u001b[0mb\u001b[0m\u001b[0;34m\u001b[0m\u001b[0;34m\u001b[0m\u001b[0m\n",
      "\u001b[0m\u001b[0;32m      3 \u001b[0;31m\u001b[0;34m\u001b[0m\u001b[0m\n",
      "\u001b[0m\u001b[0;32m      4 \u001b[0;31m\u001b[0;32mdef\u001b[0m \u001b[0mfunc2\u001b[0m\u001b[0;34m(\u001b[0m\u001b[0mx\u001b[0m\u001b[0;34m)\u001b[0m\u001b[0;34m:\u001b[0m\u001b[0;34m\u001b[0m\u001b[0;34m\u001b[0m\u001b[0m\n",
      "\u001b[0m\u001b[0;32m      5 \u001b[0;31m    \u001b[0ma\u001b[0m \u001b[0;34m=\u001b[0m \u001b[0mx\u001b[0m\u001b[0;34m\u001b[0m\u001b[0;34m\u001b[0m\u001b[0m\n",
      "\u001b[0m\n",
      "ipdb> up\n",
      "> \u001b[0;32m/var/folders/5k/98sfwc1x3bqgx7n4056zw2q80000gn/T/ipykernel_6413/820246691.py\u001b[0m(7)\u001b[0;36mfunc2\u001b[0;34m()\u001b[0m\n",
      "\u001b[0;32m      5 \u001b[0;31m    \u001b[0ma\u001b[0m \u001b[0;34m=\u001b[0m \u001b[0mx\u001b[0m\u001b[0;34m\u001b[0m\u001b[0;34m\u001b[0m\u001b[0m\n",
      "\u001b[0m\u001b[0;32m      6 \u001b[0;31m    \u001b[0mb\u001b[0m \u001b[0;34m=\u001b[0m \u001b[0mx\u001b[0m \u001b[0;34m-\u001b[0m \u001b[0;36m1\u001b[0m\u001b[0;34m\u001b[0m\u001b[0;34m\u001b[0m\u001b[0m\n",
      "\u001b[0m\u001b[0;32m----> 7 \u001b[0;31m    \u001b[0;32mreturn\u001b[0m \u001b[0mfunc1\u001b[0m\u001b[0;34m(\u001b[0m\u001b[0ma\u001b[0m\u001b[0;34m,\u001b[0m \u001b[0mb\u001b[0m\u001b[0;34m)\u001b[0m\u001b[0;34m\u001b[0m\u001b[0;34m\u001b[0m\u001b[0m\n",
      "\u001b[0m\u001b[0;32m      8 \u001b[0;31m\u001b[0;34m\u001b[0m\u001b[0m\n",
      "\u001b[0m\u001b[0;32m      9 \u001b[0;31m\u001b[0mfunc2\u001b[0m\u001b[0;34m(\u001b[0m\u001b[0;36m1\u001b[0m\u001b[0;34m)\u001b[0m\u001b[0;34m\u001b[0m\u001b[0;34m\u001b[0m\u001b[0m\n",
      "\u001b[0m\n",
      "ipdb> up\n",
      "> \u001b[0;32m/var/folders/5k/98sfwc1x3bqgx7n4056zw2q80000gn/T/ipykernel_6413/2483606204.py\u001b[0m(1)\u001b[0;36m<cell line: 1>\u001b[0;34m()\u001b[0m\n",
      "\u001b[0;32m----> 1 \u001b[0;31m\u001b[0mfunc2\u001b[0m\u001b[0;34m(\u001b[0m\u001b[0;36m1\u001b[0m\u001b[0;34m)\u001b[0m\u001b[0;34m\u001b[0m\u001b[0;34m\u001b[0m\u001b[0m\n",
      "\u001b[0m\n",
      "ipdb> down\n",
      "> \u001b[0;32m/var/folders/5k/98sfwc1x3bqgx7n4056zw2q80000gn/T/ipykernel_6413/820246691.py\u001b[0m(7)\u001b[0;36mfunc2\u001b[0;34m()\u001b[0m\n",
      "\u001b[0;32m      5 \u001b[0;31m    \u001b[0ma\u001b[0m \u001b[0;34m=\u001b[0m \u001b[0mx\u001b[0m\u001b[0;34m\u001b[0m\u001b[0;34m\u001b[0m\u001b[0m\n",
      "\u001b[0m\u001b[0;32m      6 \u001b[0;31m    \u001b[0mb\u001b[0m \u001b[0;34m=\u001b[0m \u001b[0mx\u001b[0m \u001b[0;34m-\u001b[0m \u001b[0;36m1\u001b[0m\u001b[0;34m\u001b[0m\u001b[0;34m\u001b[0m\u001b[0m\n",
      "\u001b[0m\u001b[0;32m----> 7 \u001b[0;31m    \u001b[0;32mreturn\u001b[0m \u001b[0mfunc1\u001b[0m\u001b[0;34m(\u001b[0m\u001b[0ma\u001b[0m\u001b[0;34m,\u001b[0m \u001b[0mb\u001b[0m\u001b[0;34m)\u001b[0m\u001b[0;34m\u001b[0m\u001b[0;34m\u001b[0m\u001b[0m\n",
      "\u001b[0m\u001b[0;32m      8 \u001b[0;31m\u001b[0;34m\u001b[0m\u001b[0m\n",
      "\u001b[0m\u001b[0;32m      9 \u001b[0;31m\u001b[0mfunc2\u001b[0m\u001b[0;34m(\u001b[0m\u001b[0;36m1\u001b[0m\u001b[0;34m)\u001b[0m\u001b[0;34m\u001b[0m\u001b[0;34m\u001b[0m\u001b[0m\n",
      "\u001b[0m\n",
      "ipdb> exit\n"
     ]
    }
   ],
   "source": [
    "%debug"
   ]
  },
  {
   "cell_type": "markdown",
   "id": "3fab73fd",
   "metadata": {},
   "source": [
    "If you’d like the debugger to launch automatically whenever an exception is raised,\n",
    "you can use the `%pdb` magic function to turn on this automatic behavior."
   ]
  },
  {
   "cell_type": "code",
   "execution_count": 50,
   "id": "e5975ec4",
   "metadata": {},
   "outputs": [
    {
     "name": "stdout",
     "output_type": "stream",
     "text": [
      "Exception reporting mode: Plain\n",
      "Automatic pdb calling has been turned ON\n"
     ]
    },
    {
     "ename": "ZeroDivisionError",
     "evalue": "division by zero",
     "output_type": "error",
     "traceback": [
      "Traceback \u001b[0;36m(most recent call last)\u001b[0m:\n",
      "  Input \u001b[1;32mIn [50]\u001b[0m in \u001b[1;35m<cell line: 3>\u001b[0m\n    func2(1)\n",
      "  Input \u001b[1;32mIn [44]\u001b[0m in \u001b[1;35mfunc2\u001b[0m\n    return func1(a, b)\n",
      "\u001b[0;36m  Input \u001b[0;32mIn [44]\u001b[0;36m in \u001b[0;35mfunc1\u001b[0;36m\u001b[0m\n\u001b[0;31m    return a / b\u001b[0m\n",
      "\u001b[0;31mZeroDivisionError\u001b[0m\u001b[0;31m:\u001b[0m division by zero\n"
     ]
    },
    {
     "name": "stdout",
     "output_type": "stream",
     "text": [
      "> \u001b[0;32m/var/folders/5k/98sfwc1x3bqgx7n4056zw2q80000gn/T/ipykernel_6413/820246691.py\u001b[0m(2)\u001b[0;36mfunc1\u001b[0;34m()\u001b[0m\n",
      "\u001b[0;32m      1 \u001b[0;31m\u001b[0;32mdef\u001b[0m \u001b[0mfunc1\u001b[0m\u001b[0;34m(\u001b[0m\u001b[0ma\u001b[0m\u001b[0;34m,\u001b[0m \u001b[0mb\u001b[0m\u001b[0;34m)\u001b[0m\u001b[0;34m:\u001b[0m\u001b[0;34m\u001b[0m\u001b[0;34m\u001b[0m\u001b[0m\n",
      "\u001b[0m\u001b[0;32m----> 2 \u001b[0;31m    \u001b[0;32mreturn\u001b[0m \u001b[0ma\u001b[0m \u001b[0;34m/\u001b[0m \u001b[0mb\u001b[0m\u001b[0;34m\u001b[0m\u001b[0;34m\u001b[0m\u001b[0m\n",
      "\u001b[0m\u001b[0;32m      3 \u001b[0;31m\u001b[0;34m\u001b[0m\u001b[0m\n",
      "\u001b[0m\u001b[0;32m      4 \u001b[0;31m\u001b[0;32mdef\u001b[0m \u001b[0mfunc2\u001b[0m\u001b[0;34m(\u001b[0m\u001b[0mx\u001b[0m\u001b[0;34m)\u001b[0m\u001b[0;34m:\u001b[0m\u001b[0;34m\u001b[0m\u001b[0;34m\u001b[0m\u001b[0m\n",
      "\u001b[0m\u001b[0;32m      5 \u001b[0;31m    \u001b[0ma\u001b[0m \u001b[0;34m=\u001b[0m \u001b[0mx\u001b[0m\u001b[0;34m\u001b[0m\u001b[0;34m\u001b[0m\u001b[0m\n",
      "\u001b[0m\n",
      "ipdb> up\n",
      "> \u001b[0;32m/var/folders/5k/98sfwc1x3bqgx7n4056zw2q80000gn/T/ipykernel_6413/820246691.py\u001b[0m(7)\u001b[0;36mfunc2\u001b[0;34m()\u001b[0m\n",
      "\u001b[0;32m      5 \u001b[0;31m    \u001b[0ma\u001b[0m \u001b[0;34m=\u001b[0m \u001b[0mx\u001b[0m\u001b[0;34m\u001b[0m\u001b[0;34m\u001b[0m\u001b[0m\n",
      "\u001b[0m\u001b[0;32m      6 \u001b[0;31m    \u001b[0mb\u001b[0m \u001b[0;34m=\u001b[0m \u001b[0mx\u001b[0m \u001b[0;34m-\u001b[0m \u001b[0;36m1\u001b[0m\u001b[0;34m\u001b[0m\u001b[0;34m\u001b[0m\u001b[0m\n",
      "\u001b[0m\u001b[0;32m----> 7 \u001b[0;31m    \u001b[0;32mreturn\u001b[0m \u001b[0mfunc1\u001b[0m\u001b[0;34m(\u001b[0m\u001b[0ma\u001b[0m\u001b[0;34m,\u001b[0m \u001b[0mb\u001b[0m\u001b[0;34m)\u001b[0m\u001b[0;34m\u001b[0m\u001b[0;34m\u001b[0m\u001b[0m\n",
      "\u001b[0m\u001b[0;32m      8 \u001b[0;31m\u001b[0;34m\u001b[0m\u001b[0m\n",
      "\u001b[0m\u001b[0;32m      9 \u001b[0;31m\u001b[0mfunc2\u001b[0m\u001b[0;34m(\u001b[0m\u001b[0;36m1\u001b[0m\u001b[0;34m)\u001b[0m\u001b[0;34m\u001b[0m\u001b[0;34m\u001b[0m\u001b[0m\n",
      "\u001b[0m\n",
      "ipdb> print(x)\n",
      "1\n",
      "ipdb> quit\n"
     ]
    }
   ],
   "source": [
    "%xmode Plain\n",
    "%pdb on\n",
    "func2(1)"
   ]
  },
  {
   "cell_type": "markdown",
   "id": "a1af112a",
   "metadata": {},
   "source": [
    "You can run a Python script from the beginning in interactive\n",
    "mode with the command `%run -d`, and use the `next` command to step\n",
    "through the lines of code interactively."
   ]
  },
  {
   "cell_type": "markdown",
   "id": "0d3082ff",
   "metadata": {},
   "source": [
    "### Partial list of debugging commands\n",
    "\n",
    "| Command | Description |\n",
    "| --- | --- |\n",
    "`list` | Show the current location in the file\n",
    "`h(elp)` | Show a list of commands, or find help on a specific command\n",
    "`q(uit)` | Quit the debugger and the program\n",
    "`c(ontinue)` | Quit the debugger; continue in the program\n",
    "`n(ext)` | Go to the next step of the program\n",
    "`<enter>` | Repeat the previous command\n",
    "`p(rint)` | Print variables\n",
    "`s(tep)` | Step into a subroutine\n",
    "`r(eturn)` | Return out of a subroutine"
   ]
  },
  {
   "cell_type": "markdown",
   "id": "4c45f82e",
   "metadata": {},
   "source": [
    "## Profiling and Timing Code"
   ]
  },
  {
   "cell_type": "markdown",
   "id": "3dec15ce",
   "metadata": {},
   "source": [
    "Once you have your code working, it can be useful to dig into its efficiency a bit.\n",
    "Sometimes it’s useful to check the execution time of a given command or set of commands;\n",
    "other times it’s useful to dig into a multiline process and determine where the\n",
    "bottleneck lies in some complicated series of operations. IPython provides access to a\n",
    "wide array of functionality for this kind of timing and profiling of code."
   ]
  },
  {
   "cell_type": "code",
   "execution_count": 2,
   "id": "ba726c77",
   "metadata": {},
   "outputs": [
    {
     "name": "stdout",
     "output_type": "stream",
     "text": [
      "236 ms ± 502 µs per loop (mean ± std. dev. of 7 runs, 1 loop each)\n"
     ]
    }
   ],
   "source": [
    "%%timeit\n",
    "total = 0\n",
    "for i in range(1000):\n",
    "    for j in range(1000):\n",
    "        total += i * (-1) ** j"
   ]
  },
  {
   "cell_type": "code",
   "execution_count": 3,
   "id": "d9e766cf",
   "metadata": {},
   "outputs": [
    {
     "name": "stdout",
     "output_type": "stream",
     "text": [
      "197 µs ± 958 ns per loop (mean ± std. dev. of 7 runs, 1,000 loops each)\n"
     ]
    }
   ],
   "source": [
    "import random\n",
    "L = [random.random() for i in range(100000)]\n",
    "%timeit L.sort()"
   ]
  },
  {
   "cell_type": "markdown",
   "id": "2c5c3a5b",
   "metadata": {},
   "source": [
    "For this, the `%time` magic function may be a better choice. It also is a good choice for\n",
    "longer-running commands, when short, system-related delays are unlikely to affect\n",
    "the result."
   ]
  },
  {
   "cell_type": "code",
   "execution_count": 4,
   "id": "ec195f46",
   "metadata": {},
   "outputs": [
    {
     "name": "stdout",
     "output_type": "stream",
     "text": [
      "sorting an unsorted list:\n",
      "CPU times: user 10.5 ms, sys: 437 µs, total: 10.9 ms\n",
      "Wall time: 10.6 ms\n"
     ]
    }
   ],
   "source": [
    "L = [random.random() for i in range(100000)]\n",
    "print(\"sorting an unsorted list:\")\n",
    "%time L.sort()"
   ]
  },
  {
   "cell_type": "code",
   "execution_count": 5,
   "id": "5c25481d",
   "metadata": {},
   "outputs": [
    {
     "name": "stdout",
     "output_type": "stream",
     "text": [
      "sorting an already sorted list:\n",
      "CPU times: user 581 µs, sys: 721 µs, total: 1.3 ms\n",
      "Wall time: 1.31 ms\n"
     ]
    }
   ],
   "source": [
    "print(\"sorting an already sorted list:\")\n",
    "%time L.sort()"
   ]
  },
  {
   "cell_type": "markdown",
   "id": "bd2ce7fb",
   "metadata": {},
   "source": [
    "Notice how much **faster** the presorted list is to sort, but notice also how much **longer**\n",
    "the timing takes with `%time` versus `%timeit`, even for the presorted list! This is a\n",
    "result of the fact that `%timeit` **does some clever things under the hood to prevent system\n",
    "calls from interfering with the timing**. For example, it *prevents cleanup of unused\n",
    "Python objects (known as garbage collection)* that might otherwise affect the timing.\n",
    "For this reason, `%timeit` results are usually noticeably **faster** than `%time` results."
   ]
  },
  {
   "cell_type": "markdown",
   "id": "5427c812",
   "metadata": {},
   "source": [
    "### Profiling Full Scripts: %prun\n",
    "\n",
    "IPython offers a convenient way to use the Python built-in profiler, in the form of the\n",
    "magic function `%prun`. The result is a table that indicates, in order of total time on each function call, where\n",
    "the execution is spending the most time."
   ]
  },
  {
   "cell_type": "code",
   "execution_count": 3,
   "id": "0578639e",
   "metadata": {},
   "outputs": [
    {
     "name": "stdout",
     "output_type": "stream",
     "text": [
      " "
     ]
    }
   ],
   "source": [
    "def sum_of_lists(N):\n",
    "    total = 0\n",
    "    for i in range(5):\n",
    "        L = [j ^ (j >> i) for j in range(N)]\n",
    "        total += sum(L)\n",
    "    return total\n",
    "\n",
    "%prun sum_of_lists(1000000)"
   ]
  },
  {
   "cell_type": "markdown",
   "id": "3ce5e41b",
   "metadata": {},
   "source": [
    "### Line-by-Line Profiling with %lprun\n",
    "\n",
    "Sometimes it’s more convenient\n",
    "to have a line-by-line profile report. This is not built into Python or IPython,\n",
    "but there is a line_profiler package available for installation that can do this. Start\n",
    "by using Python’s packaging tool, pip, to install the line_profiler package:\n",
    "```\n",
    "pip install line_profiler\n",
    "```\n",
    "Next, you can use IPython to load the line_profiler IPython extension, offered as\n",
    "part of this package:"
   ]
  },
  {
   "cell_type": "code",
   "execution_count": 52,
   "id": "0a5a97e1",
   "metadata": {},
   "outputs": [],
   "source": [
    "%load_ext line_profiler"
   ]
  },
  {
   "cell_type": "code",
   "execution_count": 55,
   "id": "ad3864c2",
   "metadata": {},
   "outputs": [],
   "source": [
    "%lprun -f sum_of_lists sum_of_lists(5000)"
   ]
  },
  {
   "cell_type": "markdown",
   "id": "717385e5",
   "metadata": {},
   "source": [
    "### Profiling Memory Use: %memit and %mprun\n",
    "\n",
    "Another aspect of profiling is the amount of memory an operation uses. This can be\n",
    "evaluated with another IPython extension, the *memory_profiler*. As with the\n",
    "line_profiler, we start by pip-installing the extension:\n",
    "\n",
    "```\n",
    "pip install memory_profiler\n",
    "```"
   ]
  },
  {
   "cell_type": "code",
   "execution_count": null,
   "id": "277e06f4",
   "metadata": {},
   "outputs": [],
   "source": [
    "%load_ext memory_profiler"
   ]
  },
  {
   "cell_type": "markdown",
   "id": "6757672c",
   "metadata": {},
   "source": [
    "The memory profiler extension contains two useful magic functions: the `%memit`\n",
    "magic (which offers a memory-measuring equivalent of `%timeit`) and the `%mprun`\n",
    "function (which offers a memory-measuring equivalent of `%lprun`)."
   ]
  },
  {
   "cell_type": "code",
   "execution_count": 4,
   "id": "602a307a",
   "metadata": {},
   "outputs": [
    {
     "name": "stderr",
     "output_type": "stream",
     "text": [
      "/Library/Frameworks/Python.framework/Versions/3.10/lib/python3.10/multiprocessing/resource_tracker.py:104: UserWarning: resource_tracker: process died unexpectedly, relaunching.  Some resources might leak.\n",
      "  warnings.warn('resource_tracker: process died unexpectedly, '\n"
     ]
    },
    {
     "name": "stdout",
     "output_type": "stream",
     "text": [
      "peak memory: 174.77 MiB, increment: 73.84 MiB\n"
     ]
    }
   ],
   "source": [
    "%memit sum_of_lists(1000000)"
   ]
  },
  {
   "cell_type": "markdown",
   "id": "e85446f9",
   "metadata": {},
   "source": [
    "For a line-by-line description of memory use, we can use the `%mprun` magic. Unfortunately,\n",
    "this magic **works only for functions defined in separate modules**, so we’ll start by using the `%%file` magic to create a simple module called `mprun_demo.py`, which contains our `sum_of_lists` function, with one addition\n",
    "that will make our memory profiling results more clear."
   ]
  },
  {
   "cell_type": "code",
   "execution_count": 5,
   "id": "377fc6c4",
   "metadata": {},
   "outputs": [
    {
     "name": "stdout",
     "output_type": "stream",
     "text": [
      "Writing mprun_demo.py\n"
     ]
    }
   ],
   "source": [
    "%%file mprun_demo.py\n",
    "def sum_of_lists(N):\n",
    "    total = 0\n",
    "    for i in range(5):\n",
    "        L = [j ^ (j >> i) for j in range(N)]\n",
    "        total += sum(L)\n",
    "        del L # remove reference to L\n",
    "    return total"
   ]
  },
  {
   "cell_type": "code",
   "execution_count": 7,
   "id": "24951306",
   "metadata": {},
   "outputs": [
    {
     "name": "stdout",
     "output_type": "stream",
     "text": [
      "\n"
     ]
    }
   ],
   "source": [
    "from mprun_demo import sum_of_lists\n",
    "%mprun -f sum_of_lists sum_of_lists(1000000)"
   ]
  },
  {
   "cell_type": "markdown",
   "id": "1b6907fb",
   "metadata": {},
   "source": [
    "The Increment column tells us how much each line affects the *total memory\n",
    "budget*."
   ]
  },
  {
   "cell_type": "markdown",
   "id": "982df456",
   "metadata": {},
   "source": [
    "## More IPython Resources\n",
    "\n",
    "For more IPython resources please refer to page 30 of the Python DataScience Handbook. (Link is located in the first cell of this notebook)"
   ]
  }
 ],
 "metadata": {
  "kernelspec": {
   "display_name": "Python 3 (ipykernel)",
   "language": "python",
   "name": "python3"
  },
  "language_info": {
   "codemirror_mode": {
    "name": "ipython",
    "version": 3
   },
   "file_extension": ".py",
   "mimetype": "text/x-python",
   "name": "python",
   "nbconvert_exporter": "python",
   "pygments_lexer": "ipython3",
   "version": "3.10.4"
  },
  "vscode": {
   "interpreter": {
    "hash": "b0fa6594d8f4cbf19f97940f81e996739fb7646882a419484c72d19e05852a7e"
   }
  }
 },
 "nbformat": 4,
 "nbformat_minor": 5
}
