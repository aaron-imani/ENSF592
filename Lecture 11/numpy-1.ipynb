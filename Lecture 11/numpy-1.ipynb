{
 "cells": [
  {
   "cell_type": "markdown",
   "id": "3e849a90",
   "metadata": {},
   "source": [
    "# Lecture 11\n",
    "Intorudction to numpy\n",
    "\n",
    "🍂 Fall 2022, Alireza Imani\n",
    "\n",
    "📚 Reference: [Python Data Science Handbook](https://www.oreilly.com/library/view/python-data-science/9781491912126/?sso_link=yes&sso_link_from=university-of-calgary)\n",
    "\n",
    "**Please make sure you have `numpy` installed. For installing numpy, you may use [this guide](https://numpy.org/install/) on numpy website.**\n",
    "\n",
    "**Please open IPython shell by entering `ipython` command in your terminal or open a new jupyter notebook using the `jupyter notebook` command.**"
   ]
  },
  {
   "cell_type": "markdown",
   "id": "a90b09a6",
   "metadata": {},
   "source": [
    "This chapter will cover NumPy in detail. NumPy (short for Numerical Python) provides\n",
    "an efficient interface to store and operate on dense data buffers. In some ways,\n",
    "NumPy arrays are like Python’s built-in list type, but NumPy arrays provide much\n",
    "more efficient storage and data operations as the arrays grow larger in size. NumPy\n",
    "arrays form the core of nearly the entire ecosystem of data science tools in Python, so\n",
    "time spent learning to use NumPy effectively will be valuable no matter what aspect\n",
    "of data science interests you.\n",
    "\n",
    "## Ensure numpy is installed"
   ]
  },
  {
   "cell_type": "code",
   "execution_count": 2,
   "id": "1226f520",
   "metadata": {},
   "outputs": [],
   "source": [
    "import numpy as np"
   ]
  },
  {
   "cell_type": "code",
   "execution_count": 3,
   "id": "18d3917d",
   "metadata": {},
   "outputs": [],
   "source": [
    "np?"
   ]
  },
  {
   "cell_type": "markdown",
   "id": "36ebfa75",
   "metadata": {},
   "source": [
    "## Understanding Data Types in Python"
   ]
  },
  {
   "cell_type": "markdown",
   "id": "0fffd783",
   "metadata": {},
   "source": [
    "Effective data-driven science and computation requires understanding how data is\n",
    "stored and manipulated. This section outlines and contrasts how arrays of data are\n",
    "handled in the Python language itself, and how NumPy **improves** it.\n",
    "\n",
    "### Dynamic typing"
   ]
  },
  {
   "cell_type": "code",
   "execution_count": null,
   "id": "13021eea",
   "metadata": {},
   "outputs": [],
   "source": [
    "/* C code */\n",
    "int result = 0;\n",
    "for(int i=0; i<100; i++){\n",
    "result += i;\n",
    "}\n",
    "\n",
    "int x = 4;\n",
    "x = \"four\"; // FAILS"
   ]
  },
  {
   "cell_type": "code",
   "execution_count": null,
   "id": "288e6b1f",
   "metadata": {},
   "outputs": [],
   "source": [
    "# Python code\n",
    "x = 4\n",
    "x = \"four\""
   ]
  },
  {
   "cell_type": "markdown",
   "id": "4bf50f71",
   "metadata": {},
   "source": [
    "Understanding how this works is an important\n",
    "piece of learning to analyze data efficiently and effectively with Python. But what this\n",
    "type flexibility also points to is the fact that **Python variables are more than just their\n",
    "value**; they also contain **extra information** about the type of the value.\n",
    "\n",
    "### A Python Integer Is More Than Just an Integer\n",
    "\n",
    "A single integer in Python 3.4 actually contains four pieces:\n",
    "\n",
    "* *ob_refcnt*, a reference count that helps Python silently handle memory allocation and deallocation.\n",
    "* *ob_type*, which encodes the type of the variable.\n",
    "* *ob_size*, which specifies the size of the following data members.\n",
    "* *ob_digit*, which contains the actual integer value that we expect the Python variable to represent.\n",
    "\n",
    "![The difference between C and Python integers](c-integer.jpg)\n",
    "\n",
    "- A C integer is essentially a label for a position in memory whose bytes encode an integer value.\n",
    "\n",
    "- A Python integer is a pointer to a position in memory containing all the Python object information, including the bytes that contain the integer value.\n",
    "\n",
    "### A Python List Is More Than Just a List"
   ]
  },
  {
   "cell_type": "code",
   "execution_count": 3,
   "id": "20cd329e",
   "metadata": {},
   "outputs": [
    {
     "data": {
      "text/plain": [
       "[bool, str, float, int]"
      ]
     },
     "execution_count": 3,
     "metadata": {},
     "output_type": "execute_result"
    }
   ],
   "source": [
    "L3 = [True, \"2\", 3.0, 4]\n",
    "[type(item) for item in L3]"
   ]
  },
  {
   "cell_type": "markdown",
   "id": "5e81b03a",
   "metadata": {},
   "source": [
    "This flexibility comes at a cost: to allow these flexible types, each item in the list\n",
    "**must contain its own type info**, reference count, and other information—that is, each\n",
    "item is a complete Python object. In the special case that all variables are of **the same\n",
    "type**, much of this information is redundant: it can be much more efficient to store\n",
    "data in a **fixed-type array**.\n",
    "\n",
    "\n",
    "\n",
    "![The difference between C and Python lists](c-list.jpg)\n",
    "\n",
    "\n",
    "The array essentially contains a single pointer to **one contiguous\n",
    "block of data**. The Python list, on the other hand, contains a pointer to a\n",
    "**block of pointers**, each of which in turn points to a **full Python object** like the Python\n",
    "integer we saw earlier.\n",
    "\n",
    "| List Type                     | Efficiency | Flexibility |\n",
    "|-------------------------------|------------|-------------|\n",
    "| Python List                   | ❌          | ✅           |\n",
    "| Fixed-type NumPy-style arrays | ✅          | ❌           |\n",
    "\n",
    "\n",
    "### Fixed-Type Arrays in Python"
   ]
  },
  {
   "cell_type": "code",
   "execution_count": null,
   "id": "1f319eda",
   "metadata": {},
   "outputs": [],
   "source": [
    "import array\n",
    "L = list(range(10))\n",
    "A = array.array('i', L)\n",
    "A"
   ]
  },
  {
   "cell_type": "markdown",
   "id": "77847846",
   "metadata": {},
   "source": [
    "Much more useful, however, is the ***ndarray*** object of the NumPy package. While\n",
    "Python’s array object provides efficient storage of array-based data, NumPy adds to\n",
    "this efficient **operations** on that data.\n",
    "\n",
    "### Creating Arrays from Python Lists"
   ]
  },
  {
   "cell_type": "code",
   "execution_count": 5,
   "id": "25d1409f",
   "metadata": {},
   "outputs": [],
   "source": [
    "import numpy as np"
   ]
  },
  {
   "cell_type": "code",
   "execution_count": 6,
   "id": "c574342a",
   "metadata": {},
   "outputs": [
    {
     "data": {
      "text/plain": [
       "array([1, 4, 2, 5, 3])"
      ]
     },
     "execution_count": 6,
     "metadata": {},
     "output_type": "execute_result"
    }
   ],
   "source": [
    "np.array([1, 4, 2, 5, 3])"
   ]
  },
  {
   "cell_type": "code",
   "execution_count": 7,
   "id": "0f7a1876",
   "metadata": {},
   "outputs": [
    {
     "data": {
      "text/plain": [
       "array([3.14, 4.  , 2.  , 3.  ])"
      ]
     },
     "execution_count": 7,
     "metadata": {},
     "output_type": "execute_result"
    }
   ],
   "source": [
    "np.array([3.14, 4, 2, 3])"
   ]
  },
  {
   "cell_type": "markdown",
   "id": "692ce72b",
   "metadata": {},
   "source": [
    "Remember that unlike Python lists, NumPy is constrained to arrays that all contain\n",
    "the same type. If types do not match, NumPy will ***upcast*** if possible (here, integers are\n",
    "upcast to floating point)"
   ]
  },
  {
   "cell_type": "code",
   "execution_count": 8,
   "id": "4165fdad",
   "metadata": {},
   "outputs": [
    {
     "data": {
      "text/plain": [
       "array([1., 2., 3., 4.], dtype=float32)"
      ]
     },
     "execution_count": 8,
     "metadata": {},
     "output_type": "execute_result"
    }
   ],
   "source": [
    "np.array([1, 2, 3, 4], dtype='float32')"
   ]
  },
  {
   "cell_type": "code",
   "execution_count": 9,
   "id": "62253f1a",
   "metadata": {},
   "outputs": [
    {
     "data": {
      "text/plain": [
       "array([[2, 3, 4],\n",
       "       [4, 5, 6],\n",
       "       [6, 7, 8]])"
      ]
     },
     "execution_count": 9,
     "metadata": {},
     "output_type": "execute_result"
    }
   ],
   "source": [
    "# nested lists result in multidimensional arrays\n",
    "np.array([range(i, i + 3) for i in [2, 4, 6]])"
   ]
  },
  {
   "cell_type": "markdown",
   "id": "6fd458ab",
   "metadata": {},
   "source": [
    "### Creating Arrays from Scratch\n",
    "\n",
    "Especially for larger arrays, it is more efficient to create arrays from scratch using routines\n",
    "built into NumPy."
   ]
  },
  {
   "cell_type": "code",
   "execution_count": 11,
   "id": "934f9484",
   "metadata": {},
   "outputs": [
    {
     "data": {
      "text/plain": [
       "array([0, 0, 0, 0, 0, 0, 0, 0, 0, 0])"
      ]
     },
     "execution_count": 11,
     "metadata": {},
     "output_type": "execute_result"
    }
   ],
   "source": [
    "# Create a length-10 integer array filled with zeros\n",
    "np.zeros(10, dtype=int)"
   ]
  },
  {
   "cell_type": "code",
   "execution_count": 12,
   "id": "b44cb3bc",
   "metadata": {},
   "outputs": [
    {
     "data": {
      "text/plain": [
       "array([[1., 1., 1., 1., 1.],\n",
       "       [1., 1., 1., 1., 1.],\n",
       "       [1., 1., 1., 1., 1.]])"
      ]
     },
     "execution_count": 12,
     "metadata": {},
     "output_type": "execute_result"
    }
   ],
   "source": [
    "# Create a 3x5 floating-point array filled with 1s\n",
    "np.ones((3, 5), dtype=float)"
   ]
  },
  {
   "cell_type": "code",
   "execution_count": 13,
   "id": "ebb68b96",
   "metadata": {},
   "outputs": [
    {
     "data": {
      "text/plain": [
       "array([[3.14, 3.14, 3.14, 3.14, 3.14],\n",
       "       [3.14, 3.14, 3.14, 3.14, 3.14],\n",
       "       [3.14, 3.14, 3.14, 3.14, 3.14]])"
      ]
     },
     "execution_count": 13,
     "metadata": {},
     "output_type": "execute_result"
    }
   ],
   "source": [
    "# Create a 3x5 array filled with 3.14\n",
    "np.full((3, 5), 3.14)"
   ]
  },
  {
   "cell_type": "code",
   "execution_count": 14,
   "id": "00ab4fba",
   "metadata": {},
   "outputs": [
    {
     "data": {
      "text/plain": [
       "array([ 0,  2,  4,  6,  8, 10, 12, 14, 16, 18])"
      ]
     },
     "execution_count": 14,
     "metadata": {},
     "output_type": "execute_result"
    }
   ],
   "source": [
    "# Create an array filled with a linear sequence\n",
    "# Starting at 0, ending at 20, stepping by 2\n",
    "# (this is similar to the built-in range() function)\n",
    "np.arange(0, 20, 2)"
   ]
  },
  {
   "cell_type": "code",
   "execution_count": 15,
   "id": "6b1798b9",
   "metadata": {},
   "outputs": [
    {
     "data": {
      "text/plain": [
       "array([0.  , 0.25, 0.5 , 0.75, 1.  ])"
      ]
     },
     "execution_count": 15,
     "metadata": {},
     "output_type": "execute_result"
    }
   ],
   "source": [
    "# Create an array of five values evenly spaced between 0 and 1\n",
    "np.linspace(0, 1, 5)"
   ]
  },
  {
   "cell_type": "code",
   "execution_count": 16,
   "id": "d6236702",
   "metadata": {},
   "outputs": [
    {
     "data": {
      "text/plain": [
       "array([[0.72146642, 0.1024876 , 0.92529693],\n",
       "       [0.62560813, 0.23621178, 0.81163305],\n",
       "       [0.7962827 , 0.03199703, 0.79714434]])"
      ]
     },
     "execution_count": 16,
     "metadata": {},
     "output_type": "execute_result"
    }
   ],
   "source": [
    "np.random.random((3, 3))"
   ]
  },
  {
   "cell_type": "code",
   "execution_count": 17,
   "id": "c129634a",
   "metadata": {},
   "outputs": [
    {
     "data": {
      "text/plain": [
       "array([[-0.38099375, -1.39454142,  1.1223363 ],\n",
       "       [ 0.59928111, -2.78328658,  0.76639872],\n",
       "       [-1.05305933, -1.14433893,  0.39640417]])"
      ]
     },
     "execution_count": 17,
     "metadata": {},
     "output_type": "execute_result"
    }
   ],
   "source": [
    "# Create a 3x3 array of normally distributed random values\n",
    "# with mean 0 and standard deviation 1\n",
    "np.random.normal(0, 1, (3, 3))"
   ]
  },
  {
   "cell_type": "code",
   "execution_count": 18,
   "id": "24c37e54",
   "metadata": {},
   "outputs": [
    {
     "data": {
      "text/plain": [
       "array([[7, 5, 3],\n",
       "       [7, 8, 8],\n",
       "       [0, 8, 1]])"
      ]
     },
     "execution_count": 18,
     "metadata": {},
     "output_type": "execute_result"
    }
   ],
   "source": [
    "# Create a 3x3 array of random integers in the interval [0, 10)\n",
    "np.random.randint(0, 10, (3, 3))"
   ]
  },
  {
   "cell_type": "code",
   "execution_count": 20,
   "id": "615179ac",
   "metadata": {},
   "outputs": [
    {
     "data": {
      "text/plain": [
       "array([[1., 0., 0.],\n",
       "       [0., 1., 0.],\n",
       "       [0., 0., 1.]])"
      ]
     },
     "execution_count": 20,
     "metadata": {},
     "output_type": "execute_result"
    }
   ],
   "source": [
    "# Create a 3x3 identity matrix\n",
    "np.eye(3)"
   ]
  },
  {
   "cell_type": "code",
   "execution_count": 21,
   "id": "5f7d6bdb",
   "metadata": {},
   "outputs": [
    {
     "data": {
      "text/plain": [
       "array([1., 1., 1.])"
      ]
     },
     "execution_count": 21,
     "metadata": {},
     "output_type": "execute_result"
    }
   ],
   "source": [
    "# Create an uninitialized array of three integers\n",
    "# The values will be whatever happens to already exist at that\n",
    "# memory location\n",
    "np.empty(3)"
   ]
  },
  {
   "cell_type": "markdown",
   "id": "15e11663",
   "metadata": {},
   "source": [
    "### NumPy Standard Data Types\n",
    "\n",
    "NumPy arrays contain values of a single type, so it is important to have detailed\n",
    "knowledge of those types and their limitations. Because NumPy is built in C, the\n",
    "types will be familiar to users of C, Fortran, and other related languages.\n",
    "\n",
    "![Numpy Standard Data Types](numpy-datatypes.jpeg)\n",
    "\n",
    "<div style=\"text-align: center;\">\n",
    "Python DataScience HandBook - Page 41\n",
    "</div>"
   ]
  },
  {
   "cell_type": "code",
   "execution_count": 22,
   "id": "cbb390ef",
   "metadata": {},
   "outputs": [
    {
     "data": {
      "text/plain": [
       "array([0, 0, 0, 0, 0, 0, 0, 0, 0, 0], dtype=int16)"
      ]
     },
     "execution_count": 22,
     "metadata": {},
     "output_type": "execute_result"
    }
   ],
   "source": [
    "np.zeros(10, dtype='int16')"
   ]
  },
  {
   "cell_type": "code",
   "execution_count": 23,
   "id": "3e622067",
   "metadata": {},
   "outputs": [
    {
     "data": {
      "text/plain": [
       "array([0, 0, 0, 0, 0, 0, 0, 0, 0, 0], dtype=int16)"
      ]
     },
     "execution_count": 23,
     "metadata": {},
     "output_type": "execute_result"
    }
   ],
   "source": [
    "np.zeros(10, dtype=np.int16)"
   ]
  },
  {
   "cell_type": "markdown",
   "id": "64b1fa87",
   "metadata": {},
   "source": [
    "## The Basics of NumPy Arrays\n",
    "\n",
    "Data manipulation in Python is nearly synonymous with NumPy array manipulation:\n",
    "even newer tools like Pandas (Chapter 3) are built around the NumPy array. This section\n",
    "will present several examples using NumPy array manipulation to access data\n",
    "and subarrays, and to split, reshape, and join the arrays.\n",
    "\n",
    "### NumPy Array Attributes"
   ]
  },
  {
   "cell_type": "code",
   "execution_count": 24,
   "id": "aa91f206",
   "metadata": {},
   "outputs": [
    {
     "name": "stdout",
     "output_type": "stream",
     "text": [
      "x3 ndim:  3\n",
      "x3 shape: (3, 4, 5)\n",
      "x3 size:  60\n"
     ]
    }
   ],
   "source": [
    "import numpy as np\n",
    "np.random.seed(0) # seed for reproducibility\n",
    "x1 = np.random.randint(10, size=6) # One-dimensional array\n",
    "x2 = np.random.randint(10, size=(3, 4)) # Two-dimensional array\n",
    "x3 = np.random.randint(10, size=(3, 4, 5)) # Three-dimensional array\n",
    "\n",
    "print(\"x3 ndim: \", x3.ndim) # the number of dimensions\n",
    "print(\"x3 shape:\", x3.shape) # the size of each dimension\n",
    "print(\"x3 size: \", x3.size) # the total size of the array"
   ]
  },
  {
   "cell_type": "code",
   "execution_count": 25,
   "id": "7945a68e",
   "metadata": {},
   "outputs": [
    {
     "name": "stdout",
     "output_type": "stream",
     "text": [
      "dtype: int64\n"
     ]
    }
   ],
   "source": [
    "print(\"dtype:\", x3.dtype)"
   ]
  },
  {
   "cell_type": "code",
   "execution_count": 26,
   "id": "0f6d033b",
   "metadata": {},
   "outputs": [
    {
     "name": "stdout",
     "output_type": "stream",
     "text": [
      "itemsize: 8 bytes\n",
      "nbytes: 480 bytes\n"
     ]
    }
   ],
   "source": [
    "print(\"itemsize:\", x3.itemsize, \"bytes\")  # the size (in bytes) of each array element\n",
    "print(\"nbytes:\", x3.nbytes, \"bytes\")  # the total size (in bytes) of the array"
   ]
  },
  {
   "cell_type": "markdown",
   "id": "3fdf8988",
   "metadata": {},
   "source": [
    "### Array Indexing: Accessing Single Elements\n",
    "\n",
    "Indexing for One-dimensional array is similar to list indexing in Python."
   ]
  },
  {
   "cell_type": "code",
   "execution_count": 27,
   "id": "eb6415d6",
   "metadata": {},
   "outputs": [
    {
     "data": {
      "text/plain": [
       "array([[3, 5, 2, 4],\n",
       "       [7, 6, 8, 8],\n",
       "       [1, 6, 7, 7]])"
      ]
     },
     "execution_count": 27,
     "metadata": {},
     "output_type": "execute_result"
    }
   ],
   "source": [
    "x2"
   ]
  },
  {
   "cell_type": "code",
   "execution_count": 31,
   "id": "a3aae135",
   "metadata": {},
   "outputs": [
    {
     "data": {
      "text/plain": [
       "3"
      ]
     },
     "execution_count": 31,
     "metadata": {},
     "output_type": "execute_result"
    }
   ],
   "source": [
    "# First index -> First dimension (row in this case)\n",
    "# Second index -> Second dimension (column in this case)\n",
    "\n",
    "x2[0, 0]"
   ]
  },
  {
   "cell_type": "code",
   "execution_count": 32,
   "id": "8c15f971",
   "metadata": {},
   "outputs": [
    {
     "data": {
      "text/plain": [
       "1"
      ]
     },
     "execution_count": 32,
     "metadata": {},
     "output_type": "execute_result"
    }
   ],
   "source": [
    "x2[2, 0]"
   ]
  },
  {
   "cell_type": "code",
   "execution_count": 33,
   "id": "04aadd12",
   "metadata": {},
   "outputs": [
    {
     "data": {
      "text/plain": [
       "6"
      ]
     },
     "execution_count": 33,
     "metadata": {},
     "output_type": "execute_result"
    }
   ],
   "source": [
    "x2[-1, -3]"
   ]
  },
  {
   "cell_type": "code",
   "execution_count": 34,
   "id": "e1721279",
   "metadata": {},
   "outputs": [
    {
     "data": {
      "text/plain": [
       "array([[12,  5,  2,  4],\n",
       "       [ 7,  6,  8,  8],\n",
       "       [ 1,  6,  7,  7]])"
      ]
     },
     "execution_count": 34,
     "metadata": {},
     "output_type": "execute_result"
    }
   ],
   "source": [
    "x2[0, 0] = 12\n",
    "x2"
   ]
  },
  {
   "cell_type": "code",
   "execution_count": 36,
   "id": "ed5c9ee8",
   "metadata": {},
   "outputs": [
    {
     "data": {
      "text/plain": [
       "array([3, 0, 3, 3, 7, 9])"
      ]
     },
     "execution_count": 36,
     "metadata": {},
     "output_type": "execute_result"
    }
   ],
   "source": [
    "x1[0] = 3.14159 # this will be truncated because NumPy arrays have a fixed type.\n",
    "x1"
   ]
  },
  {
   "cell_type": "markdown",
   "id": "f435fb53",
   "metadata": {},
   "source": [
    "### Array Slicing: Accessing Subarrays\n",
    "\n",
    "x[`start`:`stop`:`step`]\n",
    "\n",
    "If any of these are unspecified, they default to the values start=0, stop=size of\n",
    "dimension, step=1.\n",
    "\n",
    "#### One-dimensional subarrays"
   ]
  },
  {
   "cell_type": "code",
   "execution_count": 37,
   "id": "c9296b73",
   "metadata": {},
   "outputs": [
    {
     "data": {
      "text/plain": [
       "array([0, 1, 2, 3, 4, 5, 6, 7, 8, 9])"
      ]
     },
     "execution_count": 37,
     "metadata": {},
     "output_type": "execute_result"
    }
   ],
   "source": [
    "x = np.arange(10)\n",
    "x"
   ]
  },
  {
   "cell_type": "code",
   "execution_count": 38,
   "id": "25591c6b",
   "metadata": {},
   "outputs": [
    {
     "data": {
      "text/plain": [
       "array([0, 1, 2, 3, 4])"
      ]
     },
     "execution_count": 38,
     "metadata": {},
     "output_type": "execute_result"
    }
   ],
   "source": [
    "x[:5] # first five elements"
   ]
  },
  {
   "cell_type": "code",
   "execution_count": 39,
   "id": "dd93ebe0",
   "metadata": {},
   "outputs": [
    {
     "data": {
      "text/plain": [
       "array([5, 6, 7, 8, 9])"
      ]
     },
     "execution_count": 39,
     "metadata": {},
     "output_type": "execute_result"
    }
   ],
   "source": [
    "x[5:] # elements after index 5"
   ]
  },
  {
   "cell_type": "code",
   "execution_count": 40,
   "id": "7c14cffb",
   "metadata": {},
   "outputs": [
    {
     "data": {
      "text/plain": [
       "array([0, 2, 4, 6, 8])"
      ]
     },
     "execution_count": 40,
     "metadata": {},
     "output_type": "execute_result"
    }
   ],
   "source": [
    "x[::2] # every other element"
   ]
  },
  {
   "cell_type": "code",
   "execution_count": 44,
   "id": "2b8cd48d",
   "metadata": {},
   "outputs": [
    {
     "data": {
      "text/plain": [
       "array([1, 3, 5, 7, 9])"
      ]
     },
     "execution_count": 44,
     "metadata": {},
     "output_type": "execute_result"
    }
   ],
   "source": [
    "x[1::2] # every other element, starting at index 1"
   ]
  },
  {
   "cell_type": "markdown",
   "id": "38fdca72",
   "metadata": {},
   "source": [
    "When the step value is negative. In this case, **the defaults** for start and stop are swapped."
   ]
  },
  {
   "cell_type": "code",
   "execution_count": 42,
   "id": "d383d387",
   "metadata": {},
   "outputs": [
    {
     "data": {
      "text/plain": [
       "array([9, 8, 7, 6, 5, 4, 3, 2, 1, 0])"
      ]
     },
     "execution_count": 42,
     "metadata": {},
     "output_type": "execute_result"
    }
   ],
   "source": [
    "x[::-1] # all elements, reversed"
   ]
  },
  {
   "cell_type": "code",
   "execution_count": 43,
   "id": "1679e10a",
   "metadata": {},
   "outputs": [
    {
     "data": {
      "text/plain": [
       "array([5, 3, 1])"
      ]
     },
     "execution_count": 43,
     "metadata": {},
     "output_type": "execute_result"
    }
   ],
   "source": [
    "x[5::-2] # reversed every other from index 5"
   ]
  },
  {
   "cell_type": "markdown",
   "id": "bbf4dde1",
   "metadata": {},
   "source": [
    "#### Multidimensional subarrays"
   ]
  },
  {
   "cell_type": "code",
   "execution_count": 45,
   "id": "610681ae",
   "metadata": {},
   "outputs": [
    {
     "data": {
      "text/plain": [
       "array([[12,  5,  2,  4],\n",
       "       [ 7,  6,  8,  8],\n",
       "       [ 1,  6,  7,  7]])"
      ]
     },
     "execution_count": 45,
     "metadata": {},
     "output_type": "execute_result"
    }
   ],
   "source": [
    "x2"
   ]
  },
  {
   "cell_type": "code",
   "execution_count": 46,
   "id": "06b06a92",
   "metadata": {},
   "outputs": [
    {
     "data": {
      "text/plain": [
       "array([[12,  5,  2],\n",
       "       [ 7,  6,  8]])"
      ]
     },
     "execution_count": 46,
     "metadata": {},
     "output_type": "execute_result"
    }
   ],
   "source": [
    "x2[:2, :3] # two rows, three columns"
   ]
  },
  {
   "cell_type": "code",
   "execution_count": 47,
   "id": "29c3c884",
   "metadata": {},
   "outputs": [
    {
     "data": {
      "text/plain": [
       "array([[12,  2],\n",
       "       [ 7,  8],\n",
       "       [ 1,  7]])"
      ]
     },
     "execution_count": 47,
     "metadata": {},
     "output_type": "execute_result"
    }
   ],
   "source": [
    "x2[:3, ::2] # all rows, every other column"
   ]
  },
  {
   "cell_type": "code",
   "execution_count": 48,
   "id": "a990452d",
   "metadata": {},
   "outputs": [
    {
     "data": {
      "text/plain": [
       "array([[ 7,  7,  6,  1],\n",
       "       [ 8,  8,  6,  7],\n",
       "       [ 4,  2,  5, 12]])"
      ]
     },
     "execution_count": 48,
     "metadata": {},
     "output_type": "execute_result"
    }
   ],
   "source": [
    "x2[::-1, ::-1] # reverse all the dimensions"
   ]
  },
  {
   "cell_type": "markdown",
   "id": "4ad1ffc0",
   "metadata": {},
   "source": [
    "#### Accessing array rows and columns"
   ]
  },
  {
   "cell_type": "code",
   "execution_count": 50,
   "id": "c6fb630a",
   "metadata": {},
   "outputs": [
    {
     "data": {
      "text/plain": [
       "array([12,  7,  1])"
      ]
     },
     "execution_count": 50,
     "metadata": {},
     "output_type": "execute_result"
    }
   ],
   "source": [
    "x2[:, 0] # first column of x2"
   ]
  },
  {
   "cell_type": "code",
   "execution_count": 51,
   "id": "99e9633e",
   "metadata": {},
   "outputs": [
    {
     "data": {
      "text/plain": [
       "array([12,  5,  2,  4])"
      ]
     },
     "execution_count": 51,
     "metadata": {},
     "output_type": "execute_result"
    }
   ],
   "source": [
    "x2[0, :] # first row of x2"
   ]
  },
  {
   "cell_type": "code",
   "execution_count": 52,
   "id": "24419539",
   "metadata": {},
   "outputs": [
    {
     "data": {
      "text/plain": [
       "array([12,  5,  2,  4])"
      ]
     },
     "execution_count": 52,
     "metadata": {},
     "output_type": "execute_result"
    }
   ],
   "source": [
    "x2[0] # equivalent to x2[0, :]"
   ]
  },
  {
   "cell_type": "markdown",
   "id": "4c2ba109",
   "metadata": {},
   "source": [
    "#### Subarrays as no-copy views\n",
    "\n",
    "One important—and extremely useful—thing to know about array slices is that they\n",
    "return ***views*** rather than copies of the array data. This is one area in which NumPy\n",
    "array slicing differs from Python list slicing: in lists, slices will be copies.\n",
    "\n",
    "**If you modify an element in a subarray, the original array will be affected as well.**\n",
    "\n",
    "This default behavior is actually quite useful: it means that when we work with large\n",
    "datasets, we can access and process pieces of these datasets without the need to copy\n",
    "the underlying data buffer.\n",
    "\n",
    "#### Creating copies of arrays"
   ]
  },
  {
   "cell_type": "code",
   "execution_count": 57,
   "id": "5faff4e1",
   "metadata": {},
   "outputs": [
    {
     "data": {
      "text/plain": [
       "array([[12,  5],\n",
       "       [ 7,  6]])"
      ]
     },
     "execution_count": 57,
     "metadata": {},
     "output_type": "execute_result"
    }
   ],
   "source": [
    "x2_sub_copy = x2[:2, :2].copy()\n",
    "x2_sub_copy"
   ]
  },
  {
   "cell_type": "code",
   "execution_count": 55,
   "id": "d410c14b",
   "metadata": {},
   "outputs": [
    {
     "data": {
      "text/plain": [
       "array([[42,  5],\n",
       "       [ 7,  6]])"
      ]
     },
     "execution_count": 55,
     "metadata": {},
     "output_type": "execute_result"
    }
   ],
   "source": [
    "x2_sub_copy[0, 0] = 42\n",
    "x2_sub_copy"
   ]
  },
  {
   "cell_type": "code",
   "execution_count": 56,
   "id": "28ec566f",
   "metadata": {},
   "outputs": [
    {
     "data": {
      "text/plain": [
       "array([[12,  5,  2,  4],\n",
       "       [ 7,  6,  8,  8],\n",
       "       [ 1,  6,  7,  7]])"
      ]
     },
     "execution_count": 56,
     "metadata": {},
     "output_type": "execute_result"
    }
   ],
   "source": [
    "x2"
   ]
  },
  {
   "cell_type": "markdown",
   "id": "3eafb180",
   "metadata": {},
   "source": [
    "### Reshaping of Arrays"
   ]
  },
  {
   "cell_type": "code",
   "execution_count": 60,
   "id": "06e68132",
   "metadata": {},
   "outputs": [
    {
     "data": {
      "text/plain": [
       "array([1, 2, 3, 4, 5, 6, 7, 8, 9])"
      ]
     },
     "execution_count": 60,
     "metadata": {},
     "output_type": "execute_result"
    }
   ],
   "source": [
    "one_to_nine = np.arange(1,10)\n",
    "one_to_nine"
   ]
  },
  {
   "cell_type": "code",
   "execution_count": 62,
   "id": "dedaa052",
   "metadata": {},
   "outputs": [
    {
     "data": {
      "text/plain": [
       "array([[1, 2, 3],\n",
       "       [4, 5, 6],\n",
       "       [7, 8, 9]])"
      ]
     },
     "execution_count": 62,
     "metadata": {},
     "output_type": "execute_result"
    }
   ],
   "source": [
    "grid = one_to_nine.reshape((3,3))\n",
    "grid"
   ]
  },
  {
   "cell_type": "markdown",
   "id": "c0dcae9e",
   "metadata": {},
   "source": [
    "**The size of the initial array must match the size of the reshaped array.**"
   ]
  },
  {
   "cell_type": "code",
   "execution_count": 64,
   "id": "b97f0772",
   "metadata": {},
   "outputs": [
    {
     "data": {
      "text/plain": [
       "array([1, 2, 3])"
      ]
     },
     "execution_count": 64,
     "metadata": {},
     "output_type": "execute_result"
    }
   ],
   "source": [
    "x = np.array([1, 2, 3])\n",
    "x"
   ]
  },
  {
   "cell_type": "code",
   "execution_count": 65,
   "id": "60e09eb6",
   "metadata": {},
   "outputs": [
    {
     "data": {
      "text/plain": [
       "array([[1, 2, 3]])"
      ]
     },
     "execution_count": 65,
     "metadata": {},
     "output_type": "execute_result"
    }
   ],
   "source": [
    "# row vector via reshape\n",
    "x.reshape((1, 3))"
   ]
  },
  {
   "cell_type": "code",
   "execution_count": 67,
   "id": "cc46a969",
   "metadata": {},
   "outputs": [
    {
     "data": {
      "text/plain": [
       "array([[1, 2, 3]])"
      ]
     },
     "execution_count": 67,
     "metadata": {},
     "output_type": "execute_result"
    }
   ],
   "source": [
    "# row vector via newaxis\n",
    "x[np.newaxis, :]"
   ]
  },
  {
   "cell_type": "code",
   "execution_count": 68,
   "id": "39d48fff",
   "metadata": {},
   "outputs": [
    {
     "data": {
      "text/plain": [
       "array([[1],\n",
       "       [2],\n",
       "       [3]])"
      ]
     },
     "execution_count": 68,
     "metadata": {},
     "output_type": "execute_result"
    }
   ],
   "source": [
    "# column vector via reshape\n",
    "x.reshape((3, 1))"
   ]
  },
  {
   "cell_type": "code",
   "execution_count": 69,
   "id": "53bb361b",
   "metadata": {},
   "outputs": [
    {
     "data": {
      "text/plain": [
       "array([[1],\n",
       "       [2],\n",
       "       [3]])"
      ]
     },
     "execution_count": 69,
     "metadata": {},
     "output_type": "execute_result"
    }
   ],
   "source": [
    "# column vector via newaxis\n",
    "x[:, np.newaxis]"
   ]
  },
  {
   "cell_type": "markdown",
   "id": "d5c5a1a9",
   "metadata": {},
   "source": [
    "### Array Concatenation and Splitting\n",
    "\n",
    "Concatenation, or joining of two arrays in NumPy, is primarily accomplished\n",
    "through the routines *np.concatenate*, *np.vstack*, and *np.hstack*.\n",
    "\n",
    "#### Concatenation of arrays\n",
    "#### concatenate()"
   ]
  },
  {
   "cell_type": "code",
   "execution_count": 72,
   "id": "276e3ad4",
   "metadata": {},
   "outputs": [
    {
     "name": "stdout",
     "output_type": "stream",
     "text": [
      "[ 1  2  3  3  2  1 99 99 99]\n"
     ]
    }
   ],
   "source": [
    "x = np.array([1, 2, 3])\n",
    "y = np.array([3, 2, 1])\n",
    "z = [99, 99, 99]\n",
    "print(np.concatenate([x, y, z]))"
   ]
  },
  {
   "cell_type": "code",
   "execution_count": 73,
   "id": "407d85d6",
   "metadata": {},
   "outputs": [],
   "source": [
    "grid = np.array([[1, 2, 3],\n",
    "[4, 5, 6]])"
   ]
  },
  {
   "cell_type": "code",
   "execution_count": 74,
   "id": "57084137",
   "metadata": {},
   "outputs": [
    {
     "data": {
      "text/plain": [
       "array([[1, 2, 3],\n",
       "       [4, 5, 6],\n",
       "       [1, 2, 3],\n",
       "       [4, 5, 6]])"
      ]
     },
     "execution_count": 74,
     "metadata": {},
     "output_type": "execute_result"
    }
   ],
   "source": [
    "# concatenate along the first axis\n",
    "np.concatenate([grid, grid])"
   ]
  },
  {
   "cell_type": "code",
   "execution_count": 75,
   "id": "14d1b166",
   "metadata": {},
   "outputs": [
    {
     "data": {
      "text/plain": [
       "array([[1, 2, 3, 1, 2, 3],\n",
       "       [4, 5, 6, 4, 5, 6]])"
      ]
     },
     "execution_count": 75,
     "metadata": {},
     "output_type": "execute_result"
    }
   ],
   "source": [
    "# concatenate along the second axis (zero-indexed)\n",
    "np.concatenate([grid, grid], axis=1)"
   ]
  },
  {
   "cell_type": "markdown",
   "id": "826265b3",
   "metadata": {},
   "source": [
    "#### vstack()"
   ]
  },
  {
   "cell_type": "code",
   "execution_count": 76,
   "id": "ab4c1fab",
   "metadata": {},
   "outputs": [
    {
     "data": {
      "text/plain": [
       "array([[1, 2, 3],\n",
       "       [9, 8, 7],\n",
       "       [6, 5, 4]])"
      ]
     },
     "execution_count": 76,
     "metadata": {},
     "output_type": "execute_result"
    }
   ],
   "source": [
    "x = np.array([1, 2, 3])\n",
    "grid = np.array([[9, 8, 7],\n",
    "[6, 5, 4]])\n",
    "# vertically stack the arrays\n",
    "np.vstack([x, grid])"
   ]
  },
  {
   "cell_type": "markdown",
   "id": "f4191027",
   "metadata": {},
   "source": [
    "#### hstack()"
   ]
  },
  {
   "cell_type": "code",
   "execution_count": 77,
   "id": "edcbebdf",
   "metadata": {},
   "outputs": [
    {
     "data": {
      "text/plain": [
       "array([[ 9,  8,  7, 99],\n",
       "       [ 6,  5,  4, 99]])"
      ]
     },
     "execution_count": 77,
     "metadata": {},
     "output_type": "execute_result"
    }
   ],
   "source": [
    "# horizontally stack the arrays\n",
    "y = np.array([[99],\n",
    "[99]])\n",
    "np.hstack([grid, y])"
   ]
  },
  {
   "cell_type": "markdown",
   "id": "5787598c",
   "metadata": {},
   "source": [
    "np.***dstack*** will stack arrays along the **third axis** (depth)."
   ]
  },
  {
   "cell_type": "code",
   "execution_count": 78,
   "id": "43e499dc",
   "metadata": {},
   "outputs": [
    {
     "name": "stdout",
     "output_type": "stream",
     "text": [
      "[1 2 3] [99 99] [3 2 1]\n"
     ]
    }
   ],
   "source": [
    "x = [1, 2, 3, 99, 99, 3, 2, 1]\n",
    "x1, x2, x3 = np.split(x, [3, 5])\n",
    "print(x1, x2, x3)"
   ]
  },
  {
   "cell_type": "markdown",
   "id": "bebe5103",
   "metadata": {},
   "source": [
    "#### Splitting of arrays\n",
    "\n",
    "The opposite of concatenation is splitting, which is implemented by the functions\n",
    "np.split, np.hsplit, and np.vsplit. For each of these, we can pass **a list of indices\n",
    "giving the split points**.\n",
    "\n",
    "#### split()"
   ]
  },
  {
   "cell_type": "code",
   "execution_count": 79,
   "id": "7123ce26",
   "metadata": {},
   "outputs": [
    {
     "name": "stdout",
     "output_type": "stream",
     "text": [
      "[1 2 3] [99 99] [3 2 1]\n"
     ]
    }
   ],
   "source": [
    "x = [1, 2, 3, 99, 99, 3, 2, 1]\n",
    "x1, x2, x3 = np.split(x, [3, 5])\n",
    "print(x1, x2, x3)"
   ]
  },
  {
   "cell_type": "markdown",
   "id": "baed7319",
   "metadata": {},
   "source": [
    "#### vsplit()  - vertical splitting"
   ]
  },
  {
   "cell_type": "code",
   "execution_count": 81,
   "id": "5abe765d",
   "metadata": {},
   "outputs": [
    {
     "data": {
      "text/plain": [
       "array([[ 0,  1,  2,  3],\n",
       "       [ 4,  5,  6,  7],\n",
       "       [ 8,  9, 10, 11],\n",
       "       [12, 13, 14, 15]])"
      ]
     },
     "execution_count": 81,
     "metadata": {},
     "output_type": "execute_result"
    }
   ],
   "source": [
    "grid = np.arange(16).reshape((4, 4))\n",
    "grid"
   ]
  },
  {
   "cell_type": "code",
   "execution_count": 84,
   "id": "8ed1b2fb",
   "metadata": {},
   "outputs": [
    {
     "data": {
      "text/plain": [
       "array([[0, 1, 2, 3],\n",
       "       [4, 5, 6, 7]])"
      ]
     },
     "execution_count": 84,
     "metadata": {},
     "output_type": "execute_result"
    }
   ],
   "source": [
    "upper, lower = np.vsplit(grid, [2])\n",
    "upper"
   ]
  },
  {
   "cell_type": "code",
   "execution_count": 83,
   "id": "960f2751",
   "metadata": {},
   "outputs": [
    {
     "data": {
      "text/plain": [
       "array([[ 8,  9, 10, 11],\n",
       "       [12, 13, 14, 15]])"
      ]
     },
     "execution_count": 83,
     "metadata": {},
     "output_type": "execute_result"
    }
   ],
   "source": [
    "lower"
   ]
  },
  {
   "cell_type": "markdown",
   "id": "354def4c",
   "metadata": {},
   "source": [
    "#### hsplit() - horizontal splitting"
   ]
  },
  {
   "cell_type": "code",
   "execution_count": 85,
   "id": "dfa18671",
   "metadata": {},
   "outputs": [
    {
     "data": {
      "text/plain": [
       "array([[ 0,  1],\n",
       "       [ 4,  5],\n",
       "       [ 8,  9],\n",
       "       [12, 13]])"
      ]
     },
     "execution_count": 85,
     "metadata": {},
     "output_type": "execute_result"
    }
   ],
   "source": [
    "left, right = np.hsplit(grid, [2])\n",
    "left"
   ]
  },
  {
   "cell_type": "code",
   "execution_count": 86,
   "id": "1d28b062",
   "metadata": {},
   "outputs": [
    {
     "data": {
      "text/plain": [
       "array([[ 2,  3],\n",
       "       [ 6,  7],\n",
       "       [10, 11],\n",
       "       [14, 15]])"
      ]
     },
     "execution_count": 86,
     "metadata": {},
     "output_type": "execute_result"
    }
   ],
   "source": [
    "right"
   ]
  },
  {
   "cell_type": "markdown",
   "id": "18cc2a42",
   "metadata": {},
   "source": [
    "Similarly, np.*dsplit* will split arrays along the third axis."
   ]
  },
  {
   "cell_type": "markdown",
   "id": "51dc0213",
   "metadata": {},
   "source": [
    "## Computation on NumPy Arrays: Universal Functions\n",
    "\n",
    "Computation on NumPy arrays can be very fast, or it can be very slow. The key to\n",
    "making it fast is to use vectorized operations, generally implemented through Num‐\n",
    "Py’s universal functions (ufuncs). This section motivates the need for NumPy’s ufuncs,\n",
    "which can be used to make repeated calculations on array elements much more efficient.\n",
    "It then introduces many of the most common and useful arithmetic ufuncs\n",
    "available in the NumPy package."
   ]
  },
  {
   "cell_type": "code",
   "execution_count": 89,
   "id": "446c1a70",
   "metadata": {},
   "outputs": [
    {
     "data": {
      "text/plain": [
       "array([0.16666667, 1.        , 0.25      , 0.25      , 0.125     ])"
      ]
     },
     "execution_count": 89,
     "metadata": {},
     "output_type": "execute_result"
    }
   ],
   "source": [
    "np.random.seed(0)\n",
    "\n",
    "def compute_reciprocals(values):\n",
    "    output = np.empty(len(values))\n",
    "    for i in range(len(values)):\n",
    "        output[i] = 1.0 / values[i]\n",
    "    return output\n",
    "\n",
    "values = np.random.randint(1, 10, size=5)\n",
    "compute_reciprocals(values)"
   ]
  },
  {
   "cell_type": "code",
   "execution_count": 94,
   "id": "e3ca49b3",
   "metadata": {},
   "outputs": [
    {
     "name": "stdout",
     "output_type": "stream",
     "text": [
      "895 ms ± 5.43 ms per loop (mean ± std. dev. of 7 runs, 1 loop each)\n"
     ]
    }
   ],
   "source": [
    "big_array = np.random.randint(1, 100, size=1000000)\n",
    "%timeit compute_reciprocals(big_array)"
   ]
  },
  {
   "cell_type": "markdown",
   "id": "adcb8780",
   "metadata": {},
   "source": [
    "It turns\n",
    "out that the bottleneck here is not the operations themselves, but the **type-checking**\n",
    "and **function dispatches** that CPython must do at each cycle of the loop. Each time\n",
    "the reciprocal is computed, Python first examines the object’s type and does a\n",
    "dynamic lookup of the correct function to use for that type. If we were working in\n",
    "compiled code instead, this type specification would be known before the code executes\n",
    "and the result could be computed much more efficiently.\n",
    "\n",
    "### UFuncs\n",
    "\n",
    "For many types of operations, NumPy provides a convenient interface into just this\n",
    "kind of statically typed, compiled routine. This is known as a ***vectorized operation***.\n",
    "You can accomplish this by simply **performing an operation on the array**, which will\n",
    "then be applied to **each element**."
   ]
  },
  {
   "cell_type": "code",
   "execution_count": 91,
   "id": "43994c79",
   "metadata": {},
   "outputs": [
    {
     "name": "stdout",
     "output_type": "stream",
     "text": [
      "[0.16666667 1.         0.25       0.25       0.125     ]\n",
      "[0.16666667 1.         0.25       0.25       0.125     ]\n"
     ]
    }
   ],
   "source": [
    "print(compute_reciprocals(values))\n",
    "print(1.0 / values)"
   ]
  },
  {
   "cell_type": "code",
   "execution_count": 95,
   "id": "8f3a0c72",
   "metadata": {},
   "outputs": [
    {
     "name": "stdout",
     "output_type": "stream",
     "text": [
      "753 µs ± 96.9 µs per loop (mean ± std. dev. of 7 runs, 1,000 loops each)\n"
     ]
    }
   ],
   "source": [
    "%timeit (1.0 / big_array)  # ~14 times faster!"
   ]
  },
  {
   "cell_type": "code",
   "execution_count": 96,
   "id": "a80b792b",
   "metadata": {},
   "outputs": [
    {
     "data": {
      "text/plain": [
       "array([0.        , 0.5       , 0.66666667, 0.75      , 0.8       ])"
      ]
     },
     "execution_count": 96,
     "metadata": {},
     "output_type": "execute_result"
    }
   ],
   "source": [
    "np.arange(5) / np.arange(1, 6)"
   ]
  },
  {
   "cell_type": "code",
   "execution_count": 97,
   "id": "5da29501",
   "metadata": {},
   "outputs": [
    {
     "data": {
      "text/plain": [
       "array([[  1,   2,   4],\n",
       "       [  8,  16,  32],\n",
       "       [ 64, 128, 256]])"
      ]
     },
     "execution_count": 97,
     "metadata": {},
     "output_type": "execute_result"
    }
   ],
   "source": [
    "x = np.arange(9).reshape((3, 3))\n",
    "2 ** x"
   ]
  },
  {
   "cell_type": "markdown",
   "id": "98b29008",
   "metadata": {},
   "source": [
    "### Exploring NumPy’s UFuncs\n",
    "\n",
    "Ufuncs exist in two flavors: \n",
    "\n",
    "- ***Unary ufuncs***: Operate on a single input.\n",
    "- ***Binary ufuncs***: Operate on two inputs.\n",
    "\n",
    "#### Array arithmetic"
   ]
  },
  {
   "cell_type": "code",
   "execution_count": 100,
   "id": "94aa053c",
   "metadata": {},
   "outputs": [
    {
     "name": "stdout",
     "output_type": "stream",
     "text": [
      "x = [0 1 2 3]\n",
      "x + 5 = [5 6 7 8]\n",
      "x - 5 = [-5 -4 -3 -2]\n",
      "x * 2 = [0 2 4 6]\n",
      "x / 2 = [0.  0.5 1.  1.5]\n",
      "x // 2 = [0 0 1 1]\n",
      "-x =  [ 0 -1 -2 -3]\n",
      "x ** 2 =  [0 1 4 9]\n",
      "x % 2 =  [0 1 0 1]\n"
     ]
    }
   ],
   "source": [
    "x = np.arange(4)\n",
    "print(\"x =\", x)\n",
    "print(\"x + 5 =\", x + 5)\n",
    "print(\"x - 5 =\", x - 5)\n",
    "print(\"x * 2 =\", x * 2)\n",
    "print(\"x / 2 =\", x / 2)\n",
    "print(\"x // 2 =\", x // 2) # floor division\n",
    "print(\"-x = \", -x)\n",
    "print(\"x ** 2 = \", x ** 2)\n",
    "print(\"x % 2 = \", x % 2)"
   ]
  },
  {
   "cell_type": "code",
   "execution_count": 101,
   "id": "8f0a97a9",
   "metadata": {},
   "outputs": [
    {
     "data": {
      "text/plain": [
       "array([-1.  , -2.25, -4.  , -6.25])"
      ]
     },
     "execution_count": 101,
     "metadata": {},
     "output_type": "execute_result"
    }
   ],
   "source": [
    "-(0.5*x + 1) ** 2"
   ]
  },
  {
   "cell_type": "code",
   "execution_count": 102,
   "id": "e9b6a9f7",
   "metadata": {},
   "outputs": [
    {
     "data": {
      "text/plain": [
       "array([2, 3, 4, 5])"
      ]
     },
     "execution_count": 102,
     "metadata": {},
     "output_type": "execute_result"
    }
   ],
   "source": [
    "np.add(x, 2)"
   ]
  },
  {
   "cell_type": "markdown",
   "id": "ba585175",
   "metadata": {},
   "source": [
    "![](arithmatic-operators.jpeg)\n",
    "\n",
    "<div style=\"text-align: center;\">\n",
    "Python DataScience HandBook - Page 53\n",
    "</div>"
   ]
  },
  {
   "cell_type": "markdown",
   "id": "7ca6b6e1",
   "metadata": {},
   "source": [
    "#### Absolute value"
   ]
  },
  {
   "cell_type": "code",
   "execution_count": 103,
   "id": "5fbf31b8",
   "metadata": {},
   "outputs": [
    {
     "data": {
      "text/plain": [
       "array([2, 1, 0, 1, 2])"
      ]
     },
     "execution_count": 103,
     "metadata": {},
     "output_type": "execute_result"
    }
   ],
   "source": [
    "x = np.array([-2, -1, 0, 1, 2])\n",
    "abs(x)"
   ]
  },
  {
   "cell_type": "code",
   "execution_count": 104,
   "id": "c6c33b59",
   "metadata": {},
   "outputs": [
    {
     "data": {
      "text/plain": [
       "array([2, 1, 0, 1, 2])"
      ]
     },
     "execution_count": 104,
     "metadata": {},
     "output_type": "execute_result"
    }
   ],
   "source": [
    "np.absolute(x)"
   ]
  },
  {
   "cell_type": "code",
   "execution_count": 105,
   "id": "0f494550",
   "metadata": {},
   "outputs": [
    {
     "data": {
      "text/plain": [
       "array([2, 1, 0, 1, 2])"
      ]
     },
     "execution_count": 105,
     "metadata": {},
     "output_type": "execute_result"
    }
   ],
   "source": [
    "np.abs(x)"
   ]
  },
  {
   "cell_type": "markdown",
   "id": "3f54d1b4",
   "metadata": {},
   "source": [
    "#### Trigonometric functions"
   ]
  },
  {
   "cell_type": "code",
   "execution_count": 109,
   "id": "d918a2a8",
   "metadata": {},
   "outputs": [
    {
     "name": "stdout",
     "output_type": "stream",
     "text": [
      "theta =  [0.         1.57079633 3.14159265]\n",
      "sin(theta) =  [0.0000000e+00 1.0000000e+00 1.2246468e-16]\n",
      "cos(theta) =  [ 1.000000e+00  6.123234e-17 -1.000000e+00]\n",
      "tan(theta) =  [ 0.00000000e+00  1.63312394e+16 -1.22464680e-16]\n"
     ]
    }
   ],
   "source": [
    "theta = np.linspace(0, np.pi, 3)\n",
    "\n",
    "print(\"theta = \", theta)\n",
    "print(\"sin(theta) = \", np.sin(theta))\n",
    "print(\"cos(theta) = \", np.cos(theta))\n",
    "print(\"tan(theta) = \", np.tan(theta))"
   ]
  },
  {
   "cell_type": "markdown",
   "id": "c342a174",
   "metadata": {},
   "source": [
    "The values are computed to within machine precision, which is why values that\n",
    "should be zero do not always hit exactly zero."
   ]
  },
  {
   "cell_type": "code",
   "execution_count": 108,
   "id": "e0c2daeb",
   "metadata": {},
   "outputs": [
    {
     "name": "stdout",
     "output_type": "stream",
     "text": [
      "x =  [-1, 0, 1]\n",
      "arcsin(x) =  [-1.57079633  0.          1.57079633]\n",
      "arccos(x) =  [3.14159265 1.57079633 0.        ]\n",
      "arctan(x) =  [-0.78539816  0.          0.78539816]\n"
     ]
    }
   ],
   "source": [
    "x = [-1, 0, 1]\n",
    "print(\"x = \", x)\n",
    "print(\"arcsin(x) = \", np.arcsin(x))\n",
    "print(\"arccos(x) = \", np.arccos(x))\n",
    "print(\"arctan(x) = \", np.arctan(x))"
   ]
  },
  {
   "cell_type": "markdown",
   "id": "f009d041",
   "metadata": {},
   "source": [
    "#### Exponents and logarithms"
   ]
  },
  {
   "cell_type": "code",
   "execution_count": 110,
   "id": "5ae53dca",
   "metadata": {},
   "outputs": [
    {
     "name": "stdout",
     "output_type": "stream",
     "text": [
      "x = [1, 2, 3]\n",
      "e^x = [ 2.71828183  7.3890561  20.08553692]\n",
      "2^x = [2. 4. 8.]\n",
      "3^x = [ 3  9 27]\n"
     ]
    }
   ],
   "source": [
    "x = [1, 2, 3]\n",
    "print(\"x =\", x)\n",
    "print(\"e^x =\", np.exp(x))\n",
    "print(\"2^x =\", np.exp2(x))\n",
    "print(\"3^x =\", np.power(3, x))"
   ]
  },
  {
   "cell_type": "code",
   "execution_count": 111,
   "id": "617fd801",
   "metadata": {},
   "outputs": [
    {
     "name": "stdout",
     "output_type": "stream",
     "text": [
      "x = [1, 2, 4, 10]\n",
      "ln(x) = [0.         0.69314718 1.38629436 2.30258509]\n",
      "log2(x) = [0.         1.         2.         3.32192809]\n",
      "log10(x) = [0.         0.30103    0.60205999 1.        ]\n"
     ]
    }
   ],
   "source": [
    "x = [1, 2, 4, 10]\n",
    "print(\"x =\", x)\n",
    "print(\"ln(x) =\", np.log(x))\n",
    "print(\"log2(x) =\", np.log2(x))\n",
    "print(\"log10(x) =\", np.log10(x))"
   ]
  },
  {
   "cell_type": "code",
   "execution_count": 112,
   "id": "e5964860",
   "metadata": {},
   "outputs": [
    {
     "name": "stdout",
     "output_type": "stream",
     "text": [
      "exp(x) - 1 = [0.         0.0010005  0.01005017 0.10517092]\n",
      "log(1 + x) = [0.         0.0009995  0.00995033 0.09531018]\n"
     ]
    }
   ],
   "source": [
    "x = [0, 0.001, 0.01, 0.1]\n",
    "print(\"exp(x) - 1 =\", np.expm1(x))\n",
    "print(\"log(1 + x) =\", np.log1p(x))"
   ]
  },
  {
   "cell_type": "markdown",
   "id": "c5fcf7f9",
   "metadata": {},
   "source": [
    "> When x is very small, these functions give more precise values than if the raw np.log\n",
    "or np.exp were used."
   ]
  },
  {
   "cell_type": "markdown",
   "id": "906cefb0",
   "metadata": {},
   "source": [
    "### Advanced Ufunc Features"
   ]
  },
  {
   "cell_type": "markdown",
   "id": "9939f2be",
   "metadata": {},
   "source": [
    "---\n"
   ]
  },
  {
   "cell_type": "markdown",
   "id": "d120001b",
   "metadata": {},
   "source": [
    "#### Specifying output\n",
    "\n",
    "For large calculations, it is sometimes useful to be able to specify the array where the\n",
    "result of the calculation will be stored. Rather than creating a temporary array, you\n",
    "can use this to write computation results directly to the memory location where you’d like them to be. For all ufuncs, you can do this using the `out` argument of the\n",
    "function."
   ]
  },
  {
   "cell_type": "code",
   "execution_count": 115,
   "id": "853b5943",
   "metadata": {},
   "outputs": [
    {
     "data": {
      "text/plain": [
       "array([ 0., 10., 20., 30., 40.])"
      ]
     },
     "execution_count": 115,
     "metadata": {},
     "output_type": "execute_result"
    }
   ],
   "source": [
    "x = np.arange(5)\n",
    "y = np.empty(5)\n",
    "np.multiply(x, 10, out=y)\n",
    "y"
   ]
  },
  {
   "cell_type": "code",
   "execution_count": 116,
   "id": "a9b25fb1",
   "metadata": {},
   "outputs": [
    {
     "data": {
      "text/plain": [
       "array([ 1.,  0.,  2.,  0.,  4.,  0.,  8.,  0., 16.,  0.])"
      ]
     },
     "execution_count": 116,
     "metadata": {},
     "output_type": "execute_result"
    }
   ],
   "source": [
    "y = np.zeros(10)\n",
    "np.power(2, x, out=y[::2])\n",
    "y"
   ]
  },
  {
   "cell_type": "markdown",
   "id": "37368bbb",
   "metadata": {},
   "source": [
    "If we had instead written `y[::2] = 2 ** x`, this would have resulted in:\n",
    "\n",
    "1. The creation of a temporary array to hold the results of 2 ** x.\n",
    "2. A second operation copying those values into the y array. \n",
    "\n",
    "This doesn’t make much of a difference for such\n",
    "a small computation, but for very large arrays the memory savings from careful use of\n",
    "the out argument can be significant.\n",
    "\n",
    "#### Aggregates\n",
    "\n",
    "For binary ufuncs, there are some interesting *aggregates* that can be computed\n",
    "directly from the object. For example, if we’d like to *reduce* an array with a particular\n",
    "operation, we can use the `reduce` method of any ufunc. A reduce **repeatedly applies a\n",
    "given operation to the elements of an array** until only **a single result** remains."
   ]
  },
  {
   "cell_type": "code",
   "execution_count": 117,
   "id": "2c7a73be",
   "metadata": {},
   "outputs": [
    {
     "data": {
      "text/plain": [
       "15"
      ]
     },
     "execution_count": 117,
     "metadata": {},
     "output_type": "execute_result"
    }
   ],
   "source": [
    "x = np.arange(1, 6)\n",
    "np.add.reduce(x)"
   ]
  },
  {
   "cell_type": "code",
   "execution_count": 118,
   "id": "92072a3f",
   "metadata": {},
   "outputs": [
    {
     "data": {
      "text/plain": [
       "120"
      ]
     },
     "execution_count": 118,
     "metadata": {},
     "output_type": "execute_result"
    }
   ],
   "source": [
    "np.multiply.reduce(x)"
   ]
  },
  {
   "cell_type": "code",
   "execution_count": 120,
   "id": "ae792e58",
   "metadata": {},
   "outputs": [
    {
     "data": {
      "text/plain": [
       "array([ 1,  3,  6, 10, 15])"
      ]
     },
     "execution_count": 120,
     "metadata": {},
     "output_type": "execute_result"
    }
   ],
   "source": [
    "np.add.accumulate(x)  # stores all the intermediate results of the computation"
   ]
  },
  {
   "cell_type": "markdown",
   "id": "d8294f20",
   "metadata": {},
   "source": [
    "#### Outer products\n",
    "\n",
    "Finally, any ufunc can compute the output of all pairs of two different inputs using\n",
    "the `outer` method. This allows you, in one line, to do things like create a multiplication\n",
    "table:"
   ]
  },
  {
   "cell_type": "code",
   "execution_count": 121,
   "id": "b731fb5f",
   "metadata": {},
   "outputs": [
    {
     "data": {
      "text/plain": [
       "array([[ 1,  2,  3,  4,  5],\n",
       "       [ 2,  4,  6,  8, 10],\n",
       "       [ 3,  6,  9, 12, 15],\n",
       "       [ 4,  8, 12, 16, 20],\n",
       "       [ 5, 10, 15, 20, 25]])"
      ]
     },
     "execution_count": 121,
     "metadata": {},
     "output_type": "execute_result"
    }
   ],
   "source": [
    "x = np.arange(1, 6)\n",
    "np.multiply.outer(x, x)"
   ]
  },
  {
   "cell_type": "markdown",
   "id": "3b0b57ef",
   "metadata": {},
   "source": [
    "### Ufuncs: Learning More\n",
    "\n",
    "More information on universal functions (including the full list of available functions)\n",
    "can be found on the [NumPy](https://numpy.org) and [SciPy](https://scipy.org) documentation websites."
   ]
  }
 ],
 "metadata": {
  "kernelspec": {
   "display_name": "Python 3 (ipykernel)",
   "language": "python",
   "name": "python3"
  },
  "language_info": {
   "codemirror_mode": {
    "name": "ipython",
    "version": 3
   },
   "file_extension": ".py",
   "mimetype": "text/x-python",
   "name": "python",
   "nbconvert_exporter": "python",
   "pygments_lexer": "ipython3",
   "version": "3.10.4"
  },
  "vscode": {
   "interpreter": {
    "hash": "b0fa6594d8f4cbf19f97940f81e996739fb7646882a419484c72d19e05852a7e"
   }
  }
 },
 "nbformat": 4,
 "nbformat_minor": 5
}
